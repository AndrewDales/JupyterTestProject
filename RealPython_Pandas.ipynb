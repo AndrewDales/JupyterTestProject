{
 "cells": [
  {
   "cell_type": "markdown",
   "source": [],
   "metadata": {
    "collapsed": false,
    "pycharm": {
     "name": "#%% md\n"
    }
   }
  },
  {
   "cell_type": "markdown",
   "source": [
    "# Experiments with Pandas\n",
    "\n",
    "## Examples from [Real Python - Using Pandas and Python to Explore Your Dataset](https://realpython.com/pandas-python-explore-dataset/)"
   ],
   "metadata": {
    "collapsed": false,
    "pycharm": {
     "name": "#%% md\n"
    }
   }
  },
  {
   "cell_type": "code",
   "execution_count": 1,
   "outputs": [],
   "source": [
    "# import requests\n",
    "# import pandas as pd\n",
    "#\n",
    "# download_url = \"https://raw.githubusercontent.com/fivethirtyeight/data/master/nba-elo/nbaallelo.csv\"\n",
    "# target_csv_path = \"nba_all_elo.csv\"\n",
    "#\n",
    "# response = requests.get(download_url)\n",
    "# response.raise_for_status()    # Check that the request was successful\n",
    "# with open(target_csv_path, \"wb\") as f:\n",
    "#     f.write(response.content)\n",
    "# print(\"Download ready.\")"
   ],
   "metadata": {
    "collapsed": false,
    "pycharm": {
     "name": "#%%\n"
    }
   }
  },
  {
   "cell_type": "code",
   "execution_count": 2,
   "metadata": {
    "pycharm": {
     "name": "#%%\n"
    }
   },
   "outputs": [
    {
     "data": {
      "text/plain": "        gameorder       game_id lg_id  _iscopy  year_id   date_game  \\\n72880       36441  199403050HOU   NBA        1     1994    3/5/1994   \n104047      52024  200612300SAC   NBA        0     2007  12/30/2006   \n45115       22558  198102220NJN   NBA        1     1981   2/22/1981   \n9016         4509  195903070GSW   NBA        0     1959    3/7/1959   \n76874       38438  199512290SAC   NBA        0     1996  12/29/1995   \n86969       43485  200003090ATL   NBA        0     2000    3/9/2000   \n43020       21511  198002130HOU   NBA        1     1980   2/13/1980   \n75483       37742  199503210ORL   NBA        1     1995   3/21/1995   \n47956       23979  198211280CLE   NBA        1     1983  11/28/1982   \n47866       23934  198211200CHI   NBA        1     1983  11/20/1982   \n\n        seasongame  is_playoffs team_id    fran_id  pts    elo_i    elo_n  \\\n72880           57            0     LAC   Clippers  107  1380.00  1376.66   \n104047          28            0     SAC      Kings  119  1506.22  1518.09   \n45115           64            0     DAL  Mavericks  132  1189.47  1227.79   \n9016            70            0     PHW   Warriors   93  1496.28  1498.58   \n76874           26            0     SAC      Kings  117  1511.80  1515.10   \n86969           60            0     ATL      Hawks   79  1423.88  1410.82   \n43020           58            0     NYK     Knicks  117  1496.70  1492.28   \n75483           67            0     PHO       Suns  102  1599.60  1589.81   \n47956           12            0     KCK      Kings  110  1489.31  1475.72   \n47866           13            0     DET    Pistons  128  1509.32  1504.67   \n\n        win_equiv opp_id   opp_fran  opp_pts  opp_elo_i  opp_elo_n  \\\n72880       28.82    HOU    Rockets      124    1591.81    1595.15   \n104047      42.85    GSW   Warriors       96    1502.93    1491.06   \n45115       16.63    NJN       Nets      109    1362.88    1324.57   \n9016        39.35    CIN      Kings       86    1316.96    1314.66   \n76874       44.01    PHI     Sixers       97    1277.88    1274.58   \n86969       31.89    SAS      Spurs      105    1625.37    1638.43   \n43020       39.78    HOU    Rockets      122    1509.81    1514.23   \n75483       50.40    ORL      Magic      126    1651.04    1660.84   \n47956       38.50    CLE  Cavaliers      118    1263.86    1277.44   \n47866       41.54    CHI      Bulls      131    1456.89    1461.54   \n\n       game_location game_result  forecast notes  \n72880              A           L      0.14   NaN  \n104047             H           W      0.64   NaN  \n45115              A           W      0.17   NaN  \n9016               H           W      0.83   NaN  \n76874              H           W      0.87   NaN  \n86969              H           L      0.36   NaN  \n43020              A           L      0.34   NaN  \n75483              A           L      0.29   NaN  \n47956              A           L      0.67   NaN  \n47866              A           L      0.43   NaN  ",
      "text/html": "<div>\n<style scoped>\n    .dataframe tbody tr th:only-of-type {\n        vertical-align: middle;\n    }\n\n    .dataframe tbody tr th {\n        vertical-align: top;\n    }\n\n    .dataframe thead th {\n        text-align: right;\n    }\n</style>\n<table border=\"1\" class=\"dataframe\">\n  <thead>\n    <tr style=\"text-align: right;\">\n      <th></th>\n      <th>gameorder</th>\n      <th>game_id</th>\n      <th>lg_id</th>\n      <th>_iscopy</th>\n      <th>year_id</th>\n      <th>date_game</th>\n      <th>seasongame</th>\n      <th>is_playoffs</th>\n      <th>team_id</th>\n      <th>fran_id</th>\n      <th>pts</th>\n      <th>elo_i</th>\n      <th>elo_n</th>\n      <th>win_equiv</th>\n      <th>opp_id</th>\n      <th>opp_fran</th>\n      <th>opp_pts</th>\n      <th>opp_elo_i</th>\n      <th>opp_elo_n</th>\n      <th>game_location</th>\n      <th>game_result</th>\n      <th>forecast</th>\n      <th>notes</th>\n    </tr>\n  </thead>\n  <tbody>\n    <tr>\n      <th>72880</th>\n      <td>36441</td>\n      <td>199403050HOU</td>\n      <td>NBA</td>\n      <td>1</td>\n      <td>1994</td>\n      <td>3/5/1994</td>\n      <td>57</td>\n      <td>0</td>\n      <td>LAC</td>\n      <td>Clippers</td>\n      <td>107</td>\n      <td>1380.00</td>\n      <td>1376.66</td>\n      <td>28.82</td>\n      <td>HOU</td>\n      <td>Rockets</td>\n      <td>124</td>\n      <td>1591.81</td>\n      <td>1595.15</td>\n      <td>A</td>\n      <td>L</td>\n      <td>0.14</td>\n      <td>NaN</td>\n    </tr>\n    <tr>\n      <th>104047</th>\n      <td>52024</td>\n      <td>200612300SAC</td>\n      <td>NBA</td>\n      <td>0</td>\n      <td>2007</td>\n      <td>12/30/2006</td>\n      <td>28</td>\n      <td>0</td>\n      <td>SAC</td>\n      <td>Kings</td>\n      <td>119</td>\n      <td>1506.22</td>\n      <td>1518.09</td>\n      <td>42.85</td>\n      <td>GSW</td>\n      <td>Warriors</td>\n      <td>96</td>\n      <td>1502.93</td>\n      <td>1491.06</td>\n      <td>H</td>\n      <td>W</td>\n      <td>0.64</td>\n      <td>NaN</td>\n    </tr>\n    <tr>\n      <th>45115</th>\n      <td>22558</td>\n      <td>198102220NJN</td>\n      <td>NBA</td>\n      <td>1</td>\n      <td>1981</td>\n      <td>2/22/1981</td>\n      <td>64</td>\n      <td>0</td>\n      <td>DAL</td>\n      <td>Mavericks</td>\n      <td>132</td>\n      <td>1189.47</td>\n      <td>1227.79</td>\n      <td>16.63</td>\n      <td>NJN</td>\n      <td>Nets</td>\n      <td>109</td>\n      <td>1362.88</td>\n      <td>1324.57</td>\n      <td>A</td>\n      <td>W</td>\n      <td>0.17</td>\n      <td>NaN</td>\n    </tr>\n    <tr>\n      <th>9016</th>\n      <td>4509</td>\n      <td>195903070GSW</td>\n      <td>NBA</td>\n      <td>0</td>\n      <td>1959</td>\n      <td>3/7/1959</td>\n      <td>70</td>\n      <td>0</td>\n      <td>PHW</td>\n      <td>Warriors</td>\n      <td>93</td>\n      <td>1496.28</td>\n      <td>1498.58</td>\n      <td>39.35</td>\n      <td>CIN</td>\n      <td>Kings</td>\n      <td>86</td>\n      <td>1316.96</td>\n      <td>1314.66</td>\n      <td>H</td>\n      <td>W</td>\n      <td>0.83</td>\n      <td>NaN</td>\n    </tr>\n    <tr>\n      <th>76874</th>\n      <td>38438</td>\n      <td>199512290SAC</td>\n      <td>NBA</td>\n      <td>0</td>\n      <td>1996</td>\n      <td>12/29/1995</td>\n      <td>26</td>\n      <td>0</td>\n      <td>SAC</td>\n      <td>Kings</td>\n      <td>117</td>\n      <td>1511.80</td>\n      <td>1515.10</td>\n      <td>44.01</td>\n      <td>PHI</td>\n      <td>Sixers</td>\n      <td>97</td>\n      <td>1277.88</td>\n      <td>1274.58</td>\n      <td>H</td>\n      <td>W</td>\n      <td>0.87</td>\n      <td>NaN</td>\n    </tr>\n    <tr>\n      <th>86969</th>\n      <td>43485</td>\n      <td>200003090ATL</td>\n      <td>NBA</td>\n      <td>0</td>\n      <td>2000</td>\n      <td>3/9/2000</td>\n      <td>60</td>\n      <td>0</td>\n      <td>ATL</td>\n      <td>Hawks</td>\n      <td>79</td>\n      <td>1423.88</td>\n      <td>1410.82</td>\n      <td>31.89</td>\n      <td>SAS</td>\n      <td>Spurs</td>\n      <td>105</td>\n      <td>1625.37</td>\n      <td>1638.43</td>\n      <td>H</td>\n      <td>L</td>\n      <td>0.36</td>\n      <td>NaN</td>\n    </tr>\n    <tr>\n      <th>43020</th>\n      <td>21511</td>\n      <td>198002130HOU</td>\n      <td>NBA</td>\n      <td>1</td>\n      <td>1980</td>\n      <td>2/13/1980</td>\n      <td>58</td>\n      <td>0</td>\n      <td>NYK</td>\n      <td>Knicks</td>\n      <td>117</td>\n      <td>1496.70</td>\n      <td>1492.28</td>\n      <td>39.78</td>\n      <td>HOU</td>\n      <td>Rockets</td>\n      <td>122</td>\n      <td>1509.81</td>\n      <td>1514.23</td>\n      <td>A</td>\n      <td>L</td>\n      <td>0.34</td>\n      <td>NaN</td>\n    </tr>\n    <tr>\n      <th>75483</th>\n      <td>37742</td>\n      <td>199503210ORL</td>\n      <td>NBA</td>\n      <td>1</td>\n      <td>1995</td>\n      <td>3/21/1995</td>\n      <td>67</td>\n      <td>0</td>\n      <td>PHO</td>\n      <td>Suns</td>\n      <td>102</td>\n      <td>1599.60</td>\n      <td>1589.81</td>\n      <td>50.40</td>\n      <td>ORL</td>\n      <td>Magic</td>\n      <td>126</td>\n      <td>1651.04</td>\n      <td>1660.84</td>\n      <td>A</td>\n      <td>L</td>\n      <td>0.29</td>\n      <td>NaN</td>\n    </tr>\n    <tr>\n      <th>47956</th>\n      <td>23979</td>\n      <td>198211280CLE</td>\n      <td>NBA</td>\n      <td>1</td>\n      <td>1983</td>\n      <td>11/28/1982</td>\n      <td>12</td>\n      <td>0</td>\n      <td>KCK</td>\n      <td>Kings</td>\n      <td>110</td>\n      <td>1489.31</td>\n      <td>1475.72</td>\n      <td>38.50</td>\n      <td>CLE</td>\n      <td>Cavaliers</td>\n      <td>118</td>\n      <td>1263.86</td>\n      <td>1277.44</td>\n      <td>A</td>\n      <td>L</td>\n      <td>0.67</td>\n      <td>NaN</td>\n    </tr>\n    <tr>\n      <th>47866</th>\n      <td>23934</td>\n      <td>198211200CHI</td>\n      <td>NBA</td>\n      <td>1</td>\n      <td>1983</td>\n      <td>11/20/1982</td>\n      <td>13</td>\n      <td>0</td>\n      <td>DET</td>\n      <td>Pistons</td>\n      <td>128</td>\n      <td>1509.32</td>\n      <td>1504.67</td>\n      <td>41.54</td>\n      <td>CHI</td>\n      <td>Bulls</td>\n      <td>131</td>\n      <td>1456.89</td>\n      <td>1461.54</td>\n      <td>A</td>\n      <td>L</td>\n      <td>0.43</td>\n      <td>NaN</td>\n    </tr>\n  </tbody>\n</table>\n</div>"
     },
     "execution_count": 2,
     "metadata": {},
     "output_type": "execute_result"
    }
   ],
   "source": [
    "import pandas as pd\n",
    "import numpy as np\n",
    "\n",
    "nba = pd.read_csv(\"nba_all_elo.csv\")\n",
    "pd.set_option(\"display.max.columns\", None)\n",
    "pd.set_option(\"display.precision\", 2)\n",
    "\n",
    "nba.head()\n",
    "nba.tail()\n",
    "nba.sample(10)"
   ]
  },
  {
   "cell_type": "code",
   "execution_count": 3,
   "metadata": {},
   "outputs": [
    {
     "data": {
      "text/plain": "             game_id   lg_id  date_game team_id fran_id  opp_id opp_fran  \\\ncount         126314  126314     126314  126314  126314  126314   126314   \nunique         63157       2      12426     104      53     104       53   \ntop     194611010TRH     NBA  4/13/2011     BOS  Lakers     BOS   Lakers   \nfreq               2  118016         30    5997    6024    5997     6024   \n\n       game_location game_result           notes  \ncount         126314      126314            5424  \nunique             3           2             231  \ntop                H           L  at New York NY  \nfreq           63138       63157             440  ",
      "text/html": "<div>\n<style scoped>\n    .dataframe tbody tr th:only-of-type {\n        vertical-align: middle;\n    }\n\n    .dataframe tbody tr th {\n        vertical-align: top;\n    }\n\n    .dataframe thead th {\n        text-align: right;\n    }\n</style>\n<table border=\"1\" class=\"dataframe\">\n  <thead>\n    <tr style=\"text-align: right;\">\n      <th></th>\n      <th>game_id</th>\n      <th>lg_id</th>\n      <th>date_game</th>\n      <th>team_id</th>\n      <th>fran_id</th>\n      <th>opp_id</th>\n      <th>opp_fran</th>\n      <th>game_location</th>\n      <th>game_result</th>\n      <th>notes</th>\n    </tr>\n  </thead>\n  <tbody>\n    <tr>\n      <th>count</th>\n      <td>126314</td>\n      <td>126314</td>\n      <td>126314</td>\n      <td>126314</td>\n      <td>126314</td>\n      <td>126314</td>\n      <td>126314</td>\n      <td>126314</td>\n      <td>126314</td>\n      <td>5424</td>\n    </tr>\n    <tr>\n      <th>unique</th>\n      <td>63157</td>\n      <td>2</td>\n      <td>12426</td>\n      <td>104</td>\n      <td>53</td>\n      <td>104</td>\n      <td>53</td>\n      <td>3</td>\n      <td>2</td>\n      <td>231</td>\n    </tr>\n    <tr>\n      <th>top</th>\n      <td>194611010TRH</td>\n      <td>NBA</td>\n      <td>4/13/2011</td>\n      <td>BOS</td>\n      <td>Lakers</td>\n      <td>BOS</td>\n      <td>Lakers</td>\n      <td>H</td>\n      <td>L</td>\n      <td>at New York NY</td>\n    </tr>\n    <tr>\n      <th>freq</th>\n      <td>2</td>\n      <td>118016</td>\n      <td>30</td>\n      <td>5997</td>\n      <td>6024</td>\n      <td>5997</td>\n      <td>6024</td>\n      <td>63138</td>\n      <td>63157</td>\n      <td>440</td>\n    </tr>\n  </tbody>\n</table>\n</div>"
     },
     "execution_count": 3,
     "metadata": {},
     "output_type": "execute_result"
    }
   ],
   "source": [
    "nba.describe(include=object)"
   ]
  },
  {
   "cell_type": "code",
   "execution_count": 4,
   "outputs": [
    {
     "data": {
      "text/plain": "RangeIndex(start=0, stop=3, step=1)"
     },
     "execution_count": 4,
     "metadata": {},
     "output_type": "execute_result"
    }
   ],
   "source": [
    "revenues = pd.Series([5555, 7000, 1980])\n",
    "revenues\n",
    "revenues.values\n",
    "revenues.index"
   ],
   "metadata": {
    "collapsed": false,
    "pycharm": {
     "name": "#%%\n"
    }
   }
  },
  {
   "cell_type": "code",
   "execution_count": 5,
   "outputs": [
    {
     "data": {
      "text/plain": "Amsterdam    4200\nToronto      8000\nTokyo        6500\ndtype: int64"
     },
     "execution_count": 5,
     "metadata": {},
     "output_type": "execute_result"
    }
   ],
   "source": [
    "city_revenues = pd.Series([4200, 8000, 6500], index=[\"Amsterdam\", \"Toronto\", \"Tokyo\"])\n",
    "city_revenues"
   ],
   "metadata": {
    "collapsed": false,
    "pycharm": {
     "name": "#%%\n"
    }
   }
  },
  {
   "cell_type": "code",
   "execution_count": 6,
   "outputs": [],
   "source": [
    "city_employee_count = pd.Series({\"Amsterdam\": 5, \"Tokyo\": 8})"
   ],
   "metadata": {
    "collapsed": false,
    "pycharm": {
     "name": "#%%\n"
    }
   }
  },
  {
   "cell_type": "code",
   "execution_count": 7,
   "outputs": [
    {
     "data": {
      "text/plain": "           revenue  employee_count\nAmsterdam     4200             5.0\nTokyo         6500             8.0\nToronto       8000             NaN",
      "text/html": "<div>\n<style scoped>\n    .dataframe tbody tr th:only-of-type {\n        vertical-align: middle;\n    }\n\n    .dataframe tbody tr th {\n        vertical-align: top;\n    }\n\n    .dataframe thead th {\n        text-align: right;\n    }\n</style>\n<table border=\"1\" class=\"dataframe\">\n  <thead>\n    <tr style=\"text-align: right;\">\n      <th></th>\n      <th>revenue</th>\n      <th>employee_count</th>\n    </tr>\n  </thead>\n  <tbody>\n    <tr>\n      <th>Amsterdam</th>\n      <td>4200</td>\n      <td>5.0</td>\n    </tr>\n    <tr>\n      <th>Tokyo</th>\n      <td>6500</td>\n      <td>8.0</td>\n    </tr>\n    <tr>\n      <th>Toronto</th>\n      <td>8000</td>\n      <td>NaN</td>\n    </tr>\n  </tbody>\n</table>\n</div>"
     },
     "execution_count": 7,
     "metadata": {},
     "output_type": "execute_result"
    }
   ],
   "source": [
    "city_data = pd.DataFrame({\"revenue\": city_revenues,\n",
    "                          \"employee_count\": city_employee_count})\n",
    "city_data"
   ],
   "metadata": {
    "collapsed": false,
    "pycharm": {
     "name": "#%%\n"
    }
   }
  },
  {
   "cell_type": "code",
   "execution_count": 8,
   "outputs": [
    {
     "name": "stdout",
     "output_type": "stream",
     "text": [
      "Index(['Amsterdam', 'Tokyo', 'Toronto'], dtype='object')\n",
      "[[4.2e+03 5.0e+00]\n",
      " [6.5e+03 8.0e+00]\n",
      " [8.0e+03     nan]]\n"
     ]
    }
   ],
   "source": [
    "print(city_data.index)\n",
    "print(city_data.values)"
   ],
   "metadata": {
    "collapsed": false,
    "pycharm": {
     "name": "#%%\n"
    }
   }
  },
  {
   "cell_type": "code",
   "execution_count": 9,
   "outputs": [
    {
     "name": "stdout",
     "output_type": "stream",
     "text": [
      "[Index(['Amsterdam', 'Tokyo', 'Toronto'], dtype='object'), Index(['revenue', 'employee_count'], dtype='object')]\n"
     ]
    },
    {
     "data": {
      "text/plain": "Index(['Amsterdam', 'Tokyo', 'Toronto'], dtype='object')"
     },
     "execution_count": 9,
     "metadata": {},
     "output_type": "execute_result"
    }
   ],
   "source": [
    "print(city_data.axes)\n",
    "city_data[\"revenue\"].keys()"
   ],
   "metadata": {
    "collapsed": false,
    "pycharm": {
     "name": "#%%\n"
    }
   }
  },
  {
   "cell_type": "code",
   "execution_count": 10,
   "outputs": [
    {
     "data": {
      "text/plain": "8000"
     },
     "execution_count": 10,
     "metadata": {},
     "output_type": "execute_result"
    }
   ],
   "source": [
    "city_revenues[\"Toronto\"]\n",
    "city_revenues[1]"
   ],
   "metadata": {
    "collapsed": false,
    "pycharm": {
     "name": "#%%\n"
    }
   }
  },
  {
   "cell_type": "code",
   "execution_count": 11,
   "outputs": [
    {
     "name": "stdout",
     "output_type": "stream",
     "text": [
      "1       red\n",
      "2    purple\n",
      "3      blue\n",
      "5     green\n",
      "8    yellow\n",
      "dtype: object\n",
      "blue green blue\n"
     ]
    }
   ],
   "source": [
    "colors = pd.Series([\"red\", \"purple\", \"blue\", \"green\", \"yellow\"],\n",
    "                   index=[1, 2, 3, 5, 8])\n",
    "print(colors)\n",
    "print(colors.loc[3], colors.iloc[3], colors[3])"
   ],
   "metadata": {
    "collapsed": false,
    "pycharm": {
     "name": "#%%\n"
    }
   }
  },
  {
   "cell_type": "code",
   "execution_count": 12,
   "outputs": [
    {
     "name": "stdout",
     "output_type": "stream",
     "text": [
      "revenue           4200.0\n",
      "employee_count       5.0\n",
      "Name: Amsterdam, dtype: float64\n"
     ]
    },
    {
     "data": {
      "text/plain": "revenue           6500.0\nemployee_count       8.0\nName: Tokyo, dtype: float64"
     },
     "execution_count": 12,
     "metadata": {},
     "output_type": "execute_result"
    }
   ],
   "source": [
    "print(city_data.loc[\"Amsterdam\"])\n",
    "city_data.iloc[1]"
   ],
   "metadata": {
    "collapsed": false,
    "pycharm": {
     "name": "#%%\n"
    }
   }
  },
  {
   "cell_type": "code",
   "execution_count": 13,
   "outputs": [
    {
     "data": {
      "text/plain": "(12658, 23)"
     },
     "execution_count": 13,
     "metadata": {},
     "output_type": "execute_result"
    }
   ],
   "source": [
    "current_decade = nba[nba[\"year_id\"]>2010]\n",
    "current_decade.shape\n"
   ],
   "metadata": {
    "collapsed": false,
    "pycharm": {
     "name": "#%%\n"
    }
   }
  },
  {
   "cell_type": "code",
   "execution_count": 14,
   "outputs": [
    {
     "name": "stdout",
     "output_type": "stream",
     "text": [
      "(5424, 23)\n"
     ]
    },
    {
     "data": {
      "text/plain": "       gameorder       game_id lg_id  _iscopy  year_id   date_game  \\\n14849       7425  196702040PHI   NBA        1     1967    2/4/1967   \n5120        2561  195302230MLH   NBA        1     1953   2/23/1953   \n23495      11748  197102280CAR   ABA        0     1971   2/28/1971   \n5748        2875  195402080LAL   NBA        0     1954    2/8/1954   \n23849      11925  197103270VIR   ABA        0     1971   3/27/1971   \n23053      11527  197101290CAR   ABA        1     1971   1/29/1971   \n5763        2882  195402110BOS   NBA        0     1954   2/11/1954   \n25345      12673  197201190CAR   ABA        1     1972   1/19/1972   \n24870      12436  197112150BUF   NBA        0     1972  12/15/1971   \n8752        4377  195901090CIN   NBA        0     1959    1/9/1959   \n\n       seasongame  is_playoffs team_id     fran_id  pts    elo_i    elo_n  \\\n14849          57            0     SFW    Warriors  127  1573.95  1568.93   \n5120           53            0     PHW    Warriors   64  1367.28  1361.56   \n23495          68            0     CAR     Spirits  112  1361.62  1349.22   \n5748           51            0     MNL      Lakers  106  1637.85  1641.08   \n23849          81            0     VIR     Squires  137  1490.50  1492.79   \n23053          56            0     MMP      Sounds  101  1458.07  1445.11   \n5763           54            0     BOS     Celtics   84  1562.21  1566.08   \n25345          48            0     FLO  Floridians  104  1397.05  1391.43   \n24870          29            0     BUF    Clippers  108  1316.06  1313.13   \n8752           37            0     CIN       Kings  101  1344.71  1339.75   \n\n       win_equiv opp_id  opp_fran  opp_pts  opp_elo_i  opp_elo_n  \\\n14849      50.13    PHI    Sixers      140    1676.18    1681.20   \n5120       26.24    MLH     Hawks       78    1453.40    1459.11   \n23495      33.81    KEN  Colonels      122    1410.51    1422.91   \n5748       53.91    PHW  Warriors       91    1434.86    1431.63   \n23849      48.70    CAR   Spirits      129    1296.97    1294.68   \n23053      43.79    CAR   Spirits      115    1356.05    1369.00   \n5763       46.47    NYK    Knicks       81    1571.26    1567.38   \n25345      35.92    CAR   Spirits      108    1328.19    1333.81   \n24870      26.59    MIL     Bucks      122    1727.81    1730.74   \n8752       23.81    STL     Hawks      112    1628.05    1633.01   \n\n      game_location game_result  forecast               notes  \n14849             A           L      0.24       at Oakland CA  \n5120              A           L      0.26    at Cincinnati OH  \n23495             H           L      0.57     at Charlotte NC  \n5748              H           W      0.85       at Spencer IA  \n23849             H           W      0.84         at Salem VA  \n23053             A           L      0.50    at Greensboro NC  \n5763              H           W      0.63  at Philadelphia PA  \n25345             A           L      0.46     at Charlotte NC  \n24870             H           L      0.14       at Madison WI  \n8752              H           L      0.26       at Detroit MI  ",
      "text/html": "<div>\n<style scoped>\n    .dataframe tbody tr th:only-of-type {\n        vertical-align: middle;\n    }\n\n    .dataframe tbody tr th {\n        vertical-align: top;\n    }\n\n    .dataframe thead th {\n        text-align: right;\n    }\n</style>\n<table border=\"1\" class=\"dataframe\">\n  <thead>\n    <tr style=\"text-align: right;\">\n      <th></th>\n      <th>gameorder</th>\n      <th>game_id</th>\n      <th>lg_id</th>\n      <th>_iscopy</th>\n      <th>year_id</th>\n      <th>date_game</th>\n      <th>seasongame</th>\n      <th>is_playoffs</th>\n      <th>team_id</th>\n      <th>fran_id</th>\n      <th>pts</th>\n      <th>elo_i</th>\n      <th>elo_n</th>\n      <th>win_equiv</th>\n      <th>opp_id</th>\n      <th>opp_fran</th>\n      <th>opp_pts</th>\n      <th>opp_elo_i</th>\n      <th>opp_elo_n</th>\n      <th>game_location</th>\n      <th>game_result</th>\n      <th>forecast</th>\n      <th>notes</th>\n    </tr>\n  </thead>\n  <tbody>\n    <tr>\n      <th>14849</th>\n      <td>7425</td>\n      <td>196702040PHI</td>\n      <td>NBA</td>\n      <td>1</td>\n      <td>1967</td>\n      <td>2/4/1967</td>\n      <td>57</td>\n      <td>0</td>\n      <td>SFW</td>\n      <td>Warriors</td>\n      <td>127</td>\n      <td>1573.95</td>\n      <td>1568.93</td>\n      <td>50.13</td>\n      <td>PHI</td>\n      <td>Sixers</td>\n      <td>140</td>\n      <td>1676.18</td>\n      <td>1681.20</td>\n      <td>A</td>\n      <td>L</td>\n      <td>0.24</td>\n      <td>at Oakland CA</td>\n    </tr>\n    <tr>\n      <th>5120</th>\n      <td>2561</td>\n      <td>195302230MLH</td>\n      <td>NBA</td>\n      <td>1</td>\n      <td>1953</td>\n      <td>2/23/1953</td>\n      <td>53</td>\n      <td>0</td>\n      <td>PHW</td>\n      <td>Warriors</td>\n      <td>64</td>\n      <td>1367.28</td>\n      <td>1361.56</td>\n      <td>26.24</td>\n      <td>MLH</td>\n      <td>Hawks</td>\n      <td>78</td>\n      <td>1453.40</td>\n      <td>1459.11</td>\n      <td>A</td>\n      <td>L</td>\n      <td>0.26</td>\n      <td>at Cincinnati OH</td>\n    </tr>\n    <tr>\n      <th>23495</th>\n      <td>11748</td>\n      <td>197102280CAR</td>\n      <td>ABA</td>\n      <td>0</td>\n      <td>1971</td>\n      <td>2/28/1971</td>\n      <td>68</td>\n      <td>0</td>\n      <td>CAR</td>\n      <td>Spirits</td>\n      <td>112</td>\n      <td>1361.62</td>\n      <td>1349.22</td>\n      <td>33.81</td>\n      <td>KEN</td>\n      <td>Colonels</td>\n      <td>122</td>\n      <td>1410.51</td>\n      <td>1422.91</td>\n      <td>H</td>\n      <td>L</td>\n      <td>0.57</td>\n      <td>at Charlotte NC</td>\n    </tr>\n    <tr>\n      <th>5748</th>\n      <td>2875</td>\n      <td>195402080LAL</td>\n      <td>NBA</td>\n      <td>0</td>\n      <td>1954</td>\n      <td>2/8/1954</td>\n      <td>51</td>\n      <td>0</td>\n      <td>MNL</td>\n      <td>Lakers</td>\n      <td>106</td>\n      <td>1637.85</td>\n      <td>1641.08</td>\n      <td>53.91</td>\n      <td>PHW</td>\n      <td>Warriors</td>\n      <td>91</td>\n      <td>1434.86</td>\n      <td>1431.63</td>\n      <td>H</td>\n      <td>W</td>\n      <td>0.85</td>\n      <td>at Spencer IA</td>\n    </tr>\n    <tr>\n      <th>23849</th>\n      <td>11925</td>\n      <td>197103270VIR</td>\n      <td>ABA</td>\n      <td>0</td>\n      <td>1971</td>\n      <td>3/27/1971</td>\n      <td>81</td>\n      <td>0</td>\n      <td>VIR</td>\n      <td>Squires</td>\n      <td>137</td>\n      <td>1490.50</td>\n      <td>1492.79</td>\n      <td>48.70</td>\n      <td>CAR</td>\n      <td>Spirits</td>\n      <td>129</td>\n      <td>1296.97</td>\n      <td>1294.68</td>\n      <td>H</td>\n      <td>W</td>\n      <td>0.84</td>\n      <td>at Salem VA</td>\n    </tr>\n    <tr>\n      <th>23053</th>\n      <td>11527</td>\n      <td>197101290CAR</td>\n      <td>ABA</td>\n      <td>1</td>\n      <td>1971</td>\n      <td>1/29/1971</td>\n      <td>56</td>\n      <td>0</td>\n      <td>MMP</td>\n      <td>Sounds</td>\n      <td>101</td>\n      <td>1458.07</td>\n      <td>1445.11</td>\n      <td>43.79</td>\n      <td>CAR</td>\n      <td>Spirits</td>\n      <td>115</td>\n      <td>1356.05</td>\n      <td>1369.00</td>\n      <td>A</td>\n      <td>L</td>\n      <td>0.50</td>\n      <td>at Greensboro NC</td>\n    </tr>\n    <tr>\n      <th>5763</th>\n      <td>2882</td>\n      <td>195402110BOS</td>\n      <td>NBA</td>\n      <td>0</td>\n      <td>1954</td>\n      <td>2/11/1954</td>\n      <td>54</td>\n      <td>0</td>\n      <td>BOS</td>\n      <td>Celtics</td>\n      <td>84</td>\n      <td>1562.21</td>\n      <td>1566.08</td>\n      <td>46.47</td>\n      <td>NYK</td>\n      <td>Knicks</td>\n      <td>81</td>\n      <td>1571.26</td>\n      <td>1567.38</td>\n      <td>H</td>\n      <td>W</td>\n      <td>0.63</td>\n      <td>at Philadelphia PA</td>\n    </tr>\n    <tr>\n      <th>25345</th>\n      <td>12673</td>\n      <td>197201190CAR</td>\n      <td>ABA</td>\n      <td>1</td>\n      <td>1972</td>\n      <td>1/19/1972</td>\n      <td>48</td>\n      <td>0</td>\n      <td>FLO</td>\n      <td>Floridians</td>\n      <td>104</td>\n      <td>1397.05</td>\n      <td>1391.43</td>\n      <td>35.92</td>\n      <td>CAR</td>\n      <td>Spirits</td>\n      <td>108</td>\n      <td>1328.19</td>\n      <td>1333.81</td>\n      <td>A</td>\n      <td>L</td>\n      <td>0.46</td>\n      <td>at Charlotte NC</td>\n    </tr>\n    <tr>\n      <th>24870</th>\n      <td>12436</td>\n      <td>197112150BUF</td>\n      <td>NBA</td>\n      <td>0</td>\n      <td>1972</td>\n      <td>12/15/1971</td>\n      <td>29</td>\n      <td>0</td>\n      <td>BUF</td>\n      <td>Clippers</td>\n      <td>108</td>\n      <td>1316.06</td>\n      <td>1313.13</td>\n      <td>26.59</td>\n      <td>MIL</td>\n      <td>Bucks</td>\n      <td>122</td>\n      <td>1727.81</td>\n      <td>1730.74</td>\n      <td>H</td>\n      <td>L</td>\n      <td>0.14</td>\n      <td>at Madison WI</td>\n    </tr>\n    <tr>\n      <th>8752</th>\n      <td>4377</td>\n      <td>195901090CIN</td>\n      <td>NBA</td>\n      <td>0</td>\n      <td>1959</td>\n      <td>1/9/1959</td>\n      <td>37</td>\n      <td>0</td>\n      <td>CIN</td>\n      <td>Kings</td>\n      <td>101</td>\n      <td>1344.71</td>\n      <td>1339.75</td>\n      <td>23.81</td>\n      <td>STL</td>\n      <td>Hawks</td>\n      <td>112</td>\n      <td>1628.05</td>\n      <td>1633.01</td>\n      <td>H</td>\n      <td>L</td>\n      <td>0.26</td>\n      <td>at Detroit MI</td>\n    </tr>\n  </tbody>\n</table>\n</div>"
     },
     "execution_count": 14,
     "metadata": {},
     "output_type": "execute_result"
    }
   ],
   "source": [
    "games_with_notes = nba[nba[\"notes\"].notnull()]\n",
    "print(games_with_notes.shape)\n",
    "games_with_notes.sample(10)"
   ],
   "metadata": {
    "collapsed": false,
    "pycharm": {
     "name": "#%%\n"
    }
   }
  },
  {
   "cell_type": "code",
   "execution_count": 15,
   "outputs": [
    {
     "data": {
      "text/plain": "      gameorder       game_id lg_id  _iscopy  year_id  date_game  seasongame  \\\n1726        864  194902260BLB   NBA        0     1949  2/26/1949          53   \n4890       2446  195301100BLB   NBA        0     1953  1/10/1953          32   \n4909       2455  195301140BLB   NBA        0     1953  1/14/1953          34   \n5208       2605  195303110BLB   NBA        0     1953  3/11/1953          66   \n5825       2913  195402220BLB   NBA        0     1954  2/22/1954          60   \n\n      is_playoffs team_id    fran_id  pts    elo_i    elo_n  win_equiv opp_id  \\\n1726            0     BLB  Baltimore  114  1421.94  1419.43      38.56    MNL   \n4890            0     BLB  Baltimore  126  1328.67  1356.65      25.80    BOS   \n4909            0     BLB  Baltimore  104  1349.83  1346.36      24.88    MNL   \n5208            0     BLB  Baltimore  107  1284.52  1282.24      19.58    NYK   \n5825            0     BLB  Baltimore  110  1303.75  1301.97      20.74    BOS   \n\n     opp_fran  opp_pts  opp_elo_i  opp_elo_n game_location game_result  \\\n1726   Lakers      115    1637.99    1640.49             H           L   \n4890  Celtics      105    1591.14    1563.17             H           W   \n4909   Lakers      112    1665.44    1668.91             H           L   \n5208   Knicks      113    1649.15    1651.44             H           L   \n5825  Celtics      111    1591.49    1593.27             H           L   \n\n      forecast            notes  \n1726      0.34              NaN  \n4890      0.28              NaN  \n4909      0.22              NaN  \n5208      0.18     at Boston MA  \n5825      0.25  at Worcester MA  ",
      "text/html": "<div>\n<style scoped>\n    .dataframe tbody tr th:only-of-type {\n        vertical-align: middle;\n    }\n\n    .dataframe tbody tr th {\n        vertical-align: top;\n    }\n\n    .dataframe thead th {\n        text-align: right;\n    }\n</style>\n<table border=\"1\" class=\"dataframe\">\n  <thead>\n    <tr style=\"text-align: right;\">\n      <th></th>\n      <th>gameorder</th>\n      <th>game_id</th>\n      <th>lg_id</th>\n      <th>_iscopy</th>\n      <th>year_id</th>\n      <th>date_game</th>\n      <th>seasongame</th>\n      <th>is_playoffs</th>\n      <th>team_id</th>\n      <th>fran_id</th>\n      <th>pts</th>\n      <th>elo_i</th>\n      <th>elo_n</th>\n      <th>win_equiv</th>\n      <th>opp_id</th>\n      <th>opp_fran</th>\n      <th>opp_pts</th>\n      <th>opp_elo_i</th>\n      <th>opp_elo_n</th>\n      <th>game_location</th>\n      <th>game_result</th>\n      <th>forecast</th>\n      <th>notes</th>\n    </tr>\n  </thead>\n  <tbody>\n    <tr>\n      <th>1726</th>\n      <td>864</td>\n      <td>194902260BLB</td>\n      <td>NBA</td>\n      <td>0</td>\n      <td>1949</td>\n      <td>2/26/1949</td>\n      <td>53</td>\n      <td>0</td>\n      <td>BLB</td>\n      <td>Baltimore</td>\n      <td>114</td>\n      <td>1421.94</td>\n      <td>1419.43</td>\n      <td>38.56</td>\n      <td>MNL</td>\n      <td>Lakers</td>\n      <td>115</td>\n      <td>1637.99</td>\n      <td>1640.49</td>\n      <td>H</td>\n      <td>L</td>\n      <td>0.34</td>\n      <td>NaN</td>\n    </tr>\n    <tr>\n      <th>4890</th>\n      <td>2446</td>\n      <td>195301100BLB</td>\n      <td>NBA</td>\n      <td>0</td>\n      <td>1953</td>\n      <td>1/10/1953</td>\n      <td>32</td>\n      <td>0</td>\n      <td>BLB</td>\n      <td>Baltimore</td>\n      <td>126</td>\n      <td>1328.67</td>\n      <td>1356.65</td>\n      <td>25.80</td>\n      <td>BOS</td>\n      <td>Celtics</td>\n      <td>105</td>\n      <td>1591.14</td>\n      <td>1563.17</td>\n      <td>H</td>\n      <td>W</td>\n      <td>0.28</td>\n      <td>NaN</td>\n    </tr>\n    <tr>\n      <th>4909</th>\n      <td>2455</td>\n      <td>195301140BLB</td>\n      <td>NBA</td>\n      <td>0</td>\n      <td>1953</td>\n      <td>1/14/1953</td>\n      <td>34</td>\n      <td>0</td>\n      <td>BLB</td>\n      <td>Baltimore</td>\n      <td>104</td>\n      <td>1349.83</td>\n      <td>1346.36</td>\n      <td>24.88</td>\n      <td>MNL</td>\n      <td>Lakers</td>\n      <td>112</td>\n      <td>1665.44</td>\n      <td>1668.91</td>\n      <td>H</td>\n      <td>L</td>\n      <td>0.22</td>\n      <td>NaN</td>\n    </tr>\n    <tr>\n      <th>5208</th>\n      <td>2605</td>\n      <td>195303110BLB</td>\n      <td>NBA</td>\n      <td>0</td>\n      <td>1953</td>\n      <td>3/11/1953</td>\n      <td>66</td>\n      <td>0</td>\n      <td>BLB</td>\n      <td>Baltimore</td>\n      <td>107</td>\n      <td>1284.52</td>\n      <td>1282.24</td>\n      <td>19.58</td>\n      <td>NYK</td>\n      <td>Knicks</td>\n      <td>113</td>\n      <td>1649.15</td>\n      <td>1651.44</td>\n      <td>H</td>\n      <td>L</td>\n      <td>0.18</td>\n      <td>at Boston MA</td>\n    </tr>\n    <tr>\n      <th>5825</th>\n      <td>2913</td>\n      <td>195402220BLB</td>\n      <td>NBA</td>\n      <td>0</td>\n      <td>1954</td>\n      <td>2/22/1954</td>\n      <td>60</td>\n      <td>0</td>\n      <td>BLB</td>\n      <td>Baltimore</td>\n      <td>110</td>\n      <td>1303.75</td>\n      <td>1301.97</td>\n      <td>20.74</td>\n      <td>BOS</td>\n      <td>Celtics</td>\n      <td>111</td>\n      <td>1591.49</td>\n      <td>1593.27</td>\n      <td>H</td>\n      <td>L</td>\n      <td>0.25</td>\n      <td>at Worcester MA</td>\n    </tr>\n  </tbody>\n</table>\n</div>"
     },
     "execution_count": 15,
     "metadata": {},
     "output_type": "execute_result"
    }
   ],
   "source": [
    "nba[\n",
    "    (nba[\"pts\"] > 100) &\n",
    "    (nba[\"opp_pts\"] > 100) &\n",
    "    (nba[\"team_id\"] == \"BLB\")\n",
    "]"
   ],
   "metadata": {
    "collapsed": false,
    "pycharm": {
     "name": "#%%\n"
    }
   }
  },
  {
   "cell_type": "code",
   "execution_count": 16,
   "outputs": [
    {
     "data": {
      "text/plain": "       gameorder       game_id lg_id  _iscopy  year_id date_game  seasongame  \\\n68901      34451  199205030LAC   NBA        0     1992  5/3/1992          86   \n68903      34452  199205030LAL   NBA        0     1992  5/3/1992          86   \n\n       is_playoffs team_id   fran_id  pts    elo_i   elo_n  win_equiv opp_id  \\\n68901            1     LAC  Clippers  115  1546.90  1556.0      47.89    UTA   \n68903            1     LAL    Lakers   76  1489.65  1474.4      39.40    POR   \n\n           opp_fran  opp_pts  opp_elo_i  opp_elo_n game_location game_result  \\\n68901          Jazz      107    1647.51    1638.41             H           W   \n68903  Trailblazers      102    1655.12    1670.37             H           L   \n\n       forecast                                       notes  \n68901      0.50  at Anaheim, CA (Anaheim Convention Center)  \n68903      0.41                            at Las Vegas, NV  ",
      "text/html": "<div>\n<style scoped>\n    .dataframe tbody tr th:only-of-type {\n        vertical-align: middle;\n    }\n\n    .dataframe tbody tr th {\n        vertical-align: top;\n    }\n\n    .dataframe thead th {\n        text-align: right;\n    }\n</style>\n<table border=\"1\" class=\"dataframe\">\n  <thead>\n    <tr style=\"text-align: right;\">\n      <th></th>\n      <th>gameorder</th>\n      <th>game_id</th>\n      <th>lg_id</th>\n      <th>_iscopy</th>\n      <th>year_id</th>\n      <th>date_game</th>\n      <th>seasongame</th>\n      <th>is_playoffs</th>\n      <th>team_id</th>\n      <th>fran_id</th>\n      <th>pts</th>\n      <th>elo_i</th>\n      <th>elo_n</th>\n      <th>win_equiv</th>\n      <th>opp_id</th>\n      <th>opp_fran</th>\n      <th>opp_pts</th>\n      <th>opp_elo_i</th>\n      <th>opp_elo_n</th>\n      <th>game_location</th>\n      <th>game_result</th>\n      <th>forecast</th>\n      <th>notes</th>\n    </tr>\n  </thead>\n  <tbody>\n    <tr>\n      <th>68901</th>\n      <td>34451</td>\n      <td>199205030LAC</td>\n      <td>NBA</td>\n      <td>0</td>\n      <td>1992</td>\n      <td>5/3/1992</td>\n      <td>86</td>\n      <td>1</td>\n      <td>LAC</td>\n      <td>Clippers</td>\n      <td>115</td>\n      <td>1546.90</td>\n      <td>1556.0</td>\n      <td>47.89</td>\n      <td>UTA</td>\n      <td>Jazz</td>\n      <td>107</td>\n      <td>1647.51</td>\n      <td>1638.41</td>\n      <td>H</td>\n      <td>W</td>\n      <td>0.50</td>\n      <td>at Anaheim, CA (Anaheim Convention Center)</td>\n    </tr>\n    <tr>\n      <th>68903</th>\n      <td>34452</td>\n      <td>199205030LAL</td>\n      <td>NBA</td>\n      <td>0</td>\n      <td>1992</td>\n      <td>5/3/1992</td>\n      <td>86</td>\n      <td>1</td>\n      <td>LAL</td>\n      <td>Lakers</td>\n      <td>76</td>\n      <td>1489.65</td>\n      <td>1474.4</td>\n      <td>39.40</td>\n      <td>POR</td>\n      <td>Trailblazers</td>\n      <td>102</td>\n      <td>1655.12</td>\n      <td>1670.37</td>\n      <td>H</td>\n      <td>L</td>\n      <td>0.41</td>\n      <td>at Las Vegas, NV</td>\n    </tr>\n  </tbody>\n</table>\n</div>"
     },
     "execution_count": 16,
     "metadata": {},
     "output_type": "execute_result"
    }
   ],
   "source": [
    "nba[\n",
    "    (nba[\"team_id\"].str.startswith(\"LA\")) &\n",
    "    (nba.year_id == 1992) &\n",
    "    (nba.game_location == 'H') &\n",
    "    (nba.notes.notnull())\n",
    "]"
   ],
   "metadata": {
    "collapsed": false,
    "pycharm": {
     "name": "#%%\n"
    }
   }
  },
  {
   "cell_type": "code",
   "execution_count": 17,
   "outputs": [
    {
     "data": {
      "text/plain": "186"
     },
     "execution_count": 17,
     "metadata": {},
     "output_type": "execute_result"
    }
   ],
   "source": [
    "points = nba[\"pts\"]\n",
    "type(points)\n",
    "points.max()"
   ],
   "metadata": {
    "collapsed": false,
    "pycharm": {
     "name": "#%%\n"
    }
   }
  },
  {
   "cell_type": "code",
   "execution_count": 18,
   "outputs": [
    {
     "data": {
      "text/plain": "fran_id\nHuskies          66.58\nKnicks          100.97\nStags            78.45\nFalcons          63.28\nCapitols         76.93\nCeltics         104.47\nSteamrollers     73.64\nIronmen          61.23\nBombers          71.46\nRebels           71.02\nWarriors        104.51\nBaltimore        79.70\nJets             74.70\nPistons         101.37\nLakers          105.82\nKings           103.97\nHawks           101.81\nDenver           77.71\nOlympians        81.08\nRedskins         82.65\nWaterloo         79.37\nPackers          86.01\nSixers          103.81\nWizards         103.62\nBulls           101.53\nThunder         104.77\nSquires         114.05\nStars           112.35\nRockets         104.12\nColonels        111.63\nPacers          103.69\nNuggets         108.20\nSpurs           105.32\nSpirits         110.52\nSounds          108.44\nFloridians      112.65\nNets            101.76\nCondors         115.45\nBucks           103.70\nSuns            107.23\nClippers        101.93\nCavaliers        99.85\nTrailblazers    104.06\nSails           109.78\nJazz            102.15\nMavericks       102.63\nPelicans         97.96\nHeat             96.63\nTimberwolves     97.46\nMagic            99.43\nGrizzlies        95.16\nRaptors          96.92\nHornets          94.51\nName: pts, dtype: float64"
     },
     "execution_count": 18,
     "metadata": {},
     "output_type": "execute_result"
    }
   ],
   "source": [
    "nba.groupby(\"fran_id\", sort=False)[\"pts\"].mean()"
   ],
   "metadata": {
    "collapsed": false,
    "pycharm": {
     "name": "#%%\n"
    }
   }
  },
  {
   "cell_type": "code",
   "execution_count": 19,
   "outputs": [
    {
     "data": {
      "text/plain": "year_id  game_result\n2011     L              25\n         W              63\n2012     L              20\n         W              60\n2013     L              30\n         W              73\n2014     L              27\n         W              78\n2015     L              31\n         W              58\nName: game_id, dtype: int64"
     },
     "execution_count": 19,
     "metadata": {},
     "output_type": "execute_result"
    }
   ],
   "source": [
    "nba[\n",
    "    (nba.fran_id == \"Spurs\") &\n",
    "    (nba.year_id > 2010)\n",
    "].groupby([\"year_id\", \"game_result\"]).game_id.count()"
   ],
   "metadata": {
    "collapsed": false,
    "pycharm": {
     "name": "#%%\n"
    }
   }
  },
  {
   "cell_type": "code",
   "execution_count": 20,
   "outputs": [
    {
     "data": {
      "text/plain": "is_playoffs  game_result\n0            L              15\n             W              67\n1            L               5\n             W              16\nName: game_id, dtype: int64"
     },
     "execution_count": 20,
     "metadata": {},
     "output_type": "execute_result"
    }
   ],
   "source": [
    "nba[\n",
    "    (nba.year_id == 2015) &\n",
    "    (nba.fran_id == \"Warriors\")\n",
    "].groupby([\"is_playoffs\", \"game_result\"]).game_id.count()"
   ],
   "metadata": {
    "collapsed": false,
    "pycharm": {
     "name": "#%%\n"
    }
   }
  },
  {
   "cell_type": "code",
   "execution_count": 21,
   "outputs": [
    {
     "data": {
      "text/plain": "68"
     },
     "execution_count": 21,
     "metadata": {},
     "output_type": "execute_result"
    }
   ],
   "source": [
    "df = nba.copy()\n",
    "df[\"difference\"] = df.pts - df.opp_pts\n",
    "df.difference.max()"
   ],
   "metadata": {
    "collapsed": false,
    "pycharm": {
     "name": "#%%\n"
    }
   }
  },
  {
   "cell_type": "code",
   "execution_count": 22,
   "outputs": [
    {
     "name": "stdout",
     "output_type": "stream",
     "text": [
      "<class 'pandas.core.frame.DataFrame'>\n",
      "RangeIndex: 126314 entries, 0 to 126313\n",
      "Data columns (total 24 columns):\n",
      " #   Column       Non-Null Count   Dtype  \n",
      "---  ------       --------------   -----  \n",
      " 0   gameorder    126314 non-null  int64  \n",
      " 1   game_id      126314 non-null  object \n",
      " 2   lg_id        126314 non-null  object \n",
      " 3   _iscopy      126314 non-null  int64  \n",
      " 4   year_id      126314 non-null  int64  \n",
      " 5   date_game    126314 non-null  object \n",
      " 6   seasongame   126314 non-null  int64  \n",
      " 7   is_playoffs  126314 non-null  int64  \n",
      " 8   team_id      126314 non-null  object \n",
      " 9   fran_id      126314 non-null  object \n",
      " 10  pts          126314 non-null  int64  \n",
      " 11  elo_i        126314 non-null  float64\n",
      " 12  elo_n        126314 non-null  float64\n",
      " 13  win_equiv    126314 non-null  float64\n",
      " 14  opp_id       126314 non-null  object \n",
      " 15  opp_fran     126314 non-null  object \n",
      " 16  opp_pts      126314 non-null  int64  \n",
      " 17  opp_elo_i    126314 non-null  float64\n",
      " 18  opp_elo_n    126314 non-null  float64\n",
      " 19  location     126314 non-null  object \n",
      " 20  result       126314 non-null  object \n",
      " 21  forecast     126314 non-null  float64\n",
      " 22  notes        5424 non-null    object \n",
      " 23  difference   126314 non-null  int64  \n",
      "dtypes: float64(6), int64(8), object(10)\n",
      "memory usage: 23.1+ MB\n"
     ]
    }
   ],
   "source": [
    "renamed_df = df.rename(\n",
    "    columns={\"game_result\":\"result\", \"game_location\": \"location\"}\n",
    ")\n",
    "renamed_df.info()"
   ],
   "metadata": {
    "collapsed": false,
    "pycharm": {
     "name": "#%%\n"
    }
   }
  },
  {
   "cell_type": "code",
   "execution_count": 23,
   "outputs": [
    {
     "name": "stdout",
     "output_type": "stream",
     "text": [
      "<class 'pandas.core.frame.DataFrame'>\n",
      "RangeIndex: 126314 entries, 0 to 126313\n",
      "Data columns (total 20 columns):\n",
      " #   Column         Non-Null Count   Dtype  \n",
      "---  ------         --------------   -----  \n",
      " 0   gameorder      126314 non-null  int64  \n",
      " 1   game_id        126314 non-null  object \n",
      " 2   lg_id          126314 non-null  object \n",
      " 3   _iscopy        126314 non-null  int64  \n",
      " 4   year_id        126314 non-null  int64  \n",
      " 5   date_game      126314 non-null  object \n",
      " 6   seasongame     126314 non-null  int64  \n",
      " 7   is_playoffs    126314 non-null  int64  \n",
      " 8   team_id        126314 non-null  object \n",
      " 9   fran_id        126314 non-null  object \n",
      " 10  pts            126314 non-null  int64  \n",
      " 11  win_equiv      126314 non-null  float64\n",
      " 12  opp_id         126314 non-null  object \n",
      " 13  opp_fran       126314 non-null  object \n",
      " 14  opp_pts        126314 non-null  int64  \n",
      " 15  game_location  126314 non-null  object \n",
      " 16  game_result    126314 non-null  object \n",
      " 17  forecast       126314 non-null  float64\n",
      " 18  notes          5424 non-null    object \n",
      " 19  difference     126314 non-null  int64  \n",
      "dtypes: float64(2), int64(8), object(10)\n",
      "memory usage: 19.3+ MB\n"
     ]
    }
   ],
   "source": [
    "elo_columns = [col for col in df.columns if \"elo\" in col]\n",
    "df.drop(elo_columns, inplace=True, axis=1)\n",
    "df.info()"
   ],
   "metadata": {
    "collapsed": false,
    "pycharm": {
     "name": "#%%\n"
    }
   }
  },
  {
   "cell_type": "code",
   "execution_count": 24,
   "outputs": [
    {
     "data": {
      "text/plain": "39420    1978-03-15\n12886    1964-11-21\n112892   2010-03-06\n14910    1967-02-15\n36252    1976-11-13\n94521    2003-03-04\n59889    1988-11-15\n28797    1973-04-07\n3896     1951-11-17\n31442    1974-10-29\nName: date_game, dtype: datetime64[ns]"
     },
     "execution_count": 24,
     "metadata": {},
     "output_type": "execute_result"
    }
   ],
   "source": [
    "df.date_game = pd.to_datetime(df[\"date_game\"])\n",
    "df.date_game.sample(10)"
   ],
   "metadata": {
    "collapsed": false,
    "pycharm": {
     "name": "#%%\n"
    }
   }
  },
  {
   "cell_type": "code",
   "execution_count": 25,
   "outputs": [
    {
     "data": {
      "text/plain": "H    63138\nA    63138\nN       38\nName: game_location, dtype: int64"
     },
     "execution_count": 25,
     "metadata": {},
     "output_type": "execute_result"
    }
   ],
   "source": [
    "val_counts = df.game_location.value_counts()\n",
    "type(val_counts)\n",
    "val_counts"
   ],
   "metadata": {
    "collapsed": false,
    "pycharm": {
     "name": "#%%\n"
    }
   }
  },
  {
   "cell_type": "code",
   "execution_count": 26,
   "outputs": [
    {
     "name": "stdout",
     "output_type": "stream",
     "text": [
      "<class 'pandas.core.frame.DataFrame'>\n",
      "RangeIndex: 126314 entries, 0 to 126313\n",
      "Data columns (total 22 columns):\n",
      " #   Column         Non-Null Count   Dtype  \n",
      "---  ------         --------------   -----  \n",
      " 0   gameorder      126314 non-null  int64  \n",
      " 1   game_id        126314 non-null  object \n",
      " 2   lg_id          126314 non-null  object \n",
      " 3   _iscopy        126314 non-null  int64  \n",
      " 4   year_id        126314 non-null  int64  \n",
      " 5   date_game      126314 non-null  object \n",
      " 6   seasongame     126314 non-null  int64  \n",
      " 7   is_playoffs    126314 non-null  int64  \n",
      " 8   team_id        126314 non-null  object \n",
      " 9   fran_id        126314 non-null  object \n",
      " 10  pts            126314 non-null  int64  \n",
      " 11  elo_i          126314 non-null  float64\n",
      " 12  elo_n          126314 non-null  float64\n",
      " 13  win_equiv      126314 non-null  float64\n",
      " 14  opp_id         126314 non-null  object \n",
      " 15  opp_fran       126314 non-null  object \n",
      " 16  opp_pts        126314 non-null  int64  \n",
      " 17  opp_elo_i      126314 non-null  float64\n",
      " 18  opp_elo_n      126314 non-null  float64\n",
      " 19  game_location  126314 non-null  object \n",
      " 20  game_result    126314 non-null  object \n",
      " 21  forecast       126314 non-null  float64\n",
      "dtypes: float64(6), int64(7), object(9)\n",
      "memory usage: 21.2+ MB\n"
     ]
    }
   ],
   "source": [
    "data_without_missing_columns = nba.dropna(axis=1)\n",
    "data_without_missing_columns.info()"
   ],
   "metadata": {
    "collapsed": false,
    "pycharm": {
     "name": "#%%\n"
    }
   }
  },
  {
   "cell_type": "code",
   "execution_count": 27,
   "outputs": [
    {
     "data": {
      "text/plain": "count       126314\nunique         232\ntop       no notes\nfreq        120890\nName: notes, dtype: object"
     },
     "execution_count": 27,
     "metadata": {},
     "output_type": "execute_result"
    }
   ],
   "source": [
    "data_with_default_notes = nba.copy()\n",
    "data_with_default_notes[\"notes\"].fillna(\n",
    "    value=\"no notes\",\n",
    "    inplace=True\n",
    ")\n",
    "data_with_default_notes.notes.describe()\n"
   ],
   "metadata": {
    "collapsed": false,
    "pycharm": {
     "name": "#%%\n"
    }
   }
  },
  {
   "cell_type": "code",
   "execution_count": 28,
   "outputs": [
    {
     "name": "stdout",
     "output_type": "stream",
     "text": [
      "<class 'pandas.core.frame.DataFrame'>\n",
      "Int64Index: 126313 entries, 0 to 126313\n",
      "Data columns (total 20 columns):\n",
      " #   Column         Non-Null Count   Dtype         \n",
      "---  ------         --------------   -----         \n",
      " 0   gameorder      126313 non-null  int64         \n",
      " 1   game_id        126313 non-null  object        \n",
      " 2   lg_id          126313 non-null  object        \n",
      " 3   _iscopy        126313 non-null  int64         \n",
      " 4   year_id        126313 non-null  int64         \n",
      " 5   date_game      126313 non-null  datetime64[ns]\n",
      " 6   seasongame     126313 non-null  int64         \n",
      " 7   is_playoffs    126313 non-null  int64         \n",
      " 8   team_id        126313 non-null  object        \n",
      " 9   fran_id        126313 non-null  object        \n",
      " 10  pts            126313 non-null  int64         \n",
      " 11  win_equiv      126313 non-null  float64       \n",
      " 12  opp_id         126313 non-null  object        \n",
      " 13  opp_fran       126313 non-null  object        \n",
      " 14  opp_pts        126313 non-null  int64         \n",
      " 15  game_location  126313 non-null  object        \n",
      " 16  game_result    126313 non-null  object        \n",
      " 17  forecast       126313 non-null  float64       \n",
      " 18  notes          5423 non-null    object        \n",
      " 19  difference     126313 non-null  int64         \n",
      "dtypes: datetime64[ns](1), float64(2), int64(8), object(9)\n",
      "memory usage: 20.2+ MB\n",
      "<class 'pandas.core.frame.DataFrame'>\n",
      "Index: 5 entries, Amsterdam to Barcelona\n",
      "Data columns (total 2 columns):\n",
      " #   Column          Non-Null Count  Dtype\n",
      "---  ------          --------------  -----\n",
      " 0   revenue         5 non-null      int64\n",
      " 1   employee_count  4 non-null      Int64\n",
      "dtypes: Int64(1), int64(1)\n",
      "memory usage: 125.0+ bytes\n"
     ]
    }
   ],
   "source": [
    "df.drop(df.index[df.pts==0], inplace=True)\n",
    "df.info()\n",
    "\n",
    "further_city_data = pd.DataFrame(\n",
    "    {\"revenue\": [7000, 3400], \"employee_count\": [2,2]},\n",
    "    index=[\"New York\", \"Barcelona\"]\n",
    ")\n",
    "city_data.employee_count = city_data.employee_count.astype('Int64')\n",
    "\n",
    "all_city_data = pd.concat([city_data, further_city_data], sort=False)\n",
    "all_city_data.info()"
   ],
   "metadata": {
    "collapsed": false,
    "pycharm": {
     "name": "#%%\n"
    }
   }
  },
  {
   "cell_type": "code",
   "execution_count": 29,
   "outputs": [
    {
     "data": {
      "text/plain": "        revenue  employee_count  country capital\ncount      5.00            4.00        5       5\nunique      NaN             NaN        4       2\ntop         NaN             NaN  Holland   False\nfreq        NaN             NaN        2       3\nmean    5820.00            4.25      NaN     NaN\nstd     1942.16            2.87      NaN     NaN\nmin     3400.00            2.00      NaN     NaN\n25%     4200.00            2.00      NaN     NaN\n50%     6500.00            3.50      NaN     NaN\n75%     7000.00            5.75      NaN     NaN\nmax     8000.00            8.00      NaN     NaN",
      "text/html": "<div>\n<style scoped>\n    .dataframe tbody tr th:only-of-type {\n        vertical-align: middle;\n    }\n\n    .dataframe tbody tr th {\n        vertical-align: top;\n    }\n\n    .dataframe thead th {\n        text-align: right;\n    }\n</style>\n<table border=\"1\" class=\"dataframe\">\n  <thead>\n    <tr style=\"text-align: right;\">\n      <th></th>\n      <th>revenue</th>\n      <th>employee_count</th>\n      <th>country</th>\n      <th>capital</th>\n    </tr>\n  </thead>\n  <tbody>\n    <tr>\n      <th>count</th>\n      <td>5.00</td>\n      <td>4.00</td>\n      <td>5</td>\n      <td>5</td>\n    </tr>\n    <tr>\n      <th>unique</th>\n      <td>NaN</td>\n      <td>NaN</td>\n      <td>4</td>\n      <td>2</td>\n    </tr>\n    <tr>\n      <th>top</th>\n      <td>NaN</td>\n      <td>NaN</td>\n      <td>Holland</td>\n      <td>False</td>\n    </tr>\n    <tr>\n      <th>freq</th>\n      <td>NaN</td>\n      <td>NaN</td>\n      <td>2</td>\n      <td>3</td>\n    </tr>\n    <tr>\n      <th>mean</th>\n      <td>5820.00</td>\n      <td>4.25</td>\n      <td>NaN</td>\n      <td>NaN</td>\n    </tr>\n    <tr>\n      <th>std</th>\n      <td>1942.16</td>\n      <td>2.87</td>\n      <td>NaN</td>\n      <td>NaN</td>\n    </tr>\n    <tr>\n      <th>min</th>\n      <td>3400.00</td>\n      <td>2.00</td>\n      <td>NaN</td>\n      <td>NaN</td>\n    </tr>\n    <tr>\n      <th>25%</th>\n      <td>4200.00</td>\n      <td>2.00</td>\n      <td>NaN</td>\n      <td>NaN</td>\n    </tr>\n    <tr>\n      <th>50%</th>\n      <td>6500.00</td>\n      <td>3.50</td>\n      <td>NaN</td>\n      <td>NaN</td>\n    </tr>\n    <tr>\n      <th>75%</th>\n      <td>7000.00</td>\n      <td>5.75</td>\n      <td>NaN</td>\n      <td>NaN</td>\n    </tr>\n    <tr>\n      <th>max</th>\n      <td>8000.00</td>\n      <td>8.00</td>\n      <td>NaN</td>\n      <td>NaN</td>\n    </tr>\n  </tbody>\n</table>\n</div>"
     },
     "execution_count": 29,
     "metadata": {},
     "output_type": "execute_result"
    }
   ],
   "source": [
    "city_countries = pd.DataFrame({\n",
    "    \"country\": [\"Holland\", \"Japan\", \"Holland\", \"Canada\", \"Spain\"],\n",
    "    \"capital\": [True, True, False, False, False]},\n",
    "    index=[\"Amsterdam\", \"Tokyo\", \"Rotterdam\", \"Toronto\", \"Barcelona\"]\n",
    ")\n",
    "\n",
    "cities = pd.concat([all_city_data, city_countries], axis=1)\n",
    "cities.describe(include='all')"
   ],
   "metadata": {
    "collapsed": false,
    "pycharm": {
     "name": "#%%\n"
    }
   }
  },
  {
   "cell_type": "code",
   "execution_count": 30,
   "outputs": [
    {
     "data": {
      "text/plain": "           revenue  employee_count  country capital  population_millions  \\\nAmsterdam   4200.0               5  Holland    True                 17.0   \nTokyo       6500.0               8    Japan    True                127.0   \nToronto     8000.0            <NA>   Canada   False                 37.0   \nNew York    7000.0               2      NaN     NaN                  NaN   \nBarcelona   3400.0               2    Spain   False                  NaN   \nRotterdam      NaN            <NA>  Holland   False                 17.0   \n\n               continent  \nAmsterdam         Europe  \nTokyo               Asia  \nToronto    North America  \nNew York             NaN  \nBarcelona            NaN  \nRotterdam         Europe  ",
      "text/html": "<div>\n<style scoped>\n    .dataframe tbody tr th:only-of-type {\n        vertical-align: middle;\n    }\n\n    .dataframe tbody tr th {\n        vertical-align: top;\n    }\n\n    .dataframe thead th {\n        text-align: right;\n    }\n</style>\n<table border=\"1\" class=\"dataframe\">\n  <thead>\n    <tr style=\"text-align: right;\">\n      <th></th>\n      <th>revenue</th>\n      <th>employee_count</th>\n      <th>country</th>\n      <th>capital</th>\n      <th>population_millions</th>\n      <th>continent</th>\n    </tr>\n  </thead>\n  <tbody>\n    <tr>\n      <th>Amsterdam</th>\n      <td>4200.0</td>\n      <td>5</td>\n      <td>Holland</td>\n      <td>True</td>\n      <td>17.0</td>\n      <td>Europe</td>\n    </tr>\n    <tr>\n      <th>Tokyo</th>\n      <td>6500.0</td>\n      <td>8</td>\n      <td>Japan</td>\n      <td>True</td>\n      <td>127.0</td>\n      <td>Asia</td>\n    </tr>\n    <tr>\n      <th>Toronto</th>\n      <td>8000.0</td>\n      <td>&lt;NA&gt;</td>\n      <td>Canada</td>\n      <td>False</td>\n      <td>37.0</td>\n      <td>North America</td>\n    </tr>\n    <tr>\n      <th>New York</th>\n      <td>7000.0</td>\n      <td>2</td>\n      <td>NaN</td>\n      <td>NaN</td>\n      <td>NaN</td>\n      <td>NaN</td>\n    </tr>\n    <tr>\n      <th>Barcelona</th>\n      <td>3400.0</td>\n      <td>2</td>\n      <td>Spain</td>\n      <td>False</td>\n      <td>NaN</td>\n      <td>NaN</td>\n    </tr>\n    <tr>\n      <th>Rotterdam</th>\n      <td>NaN</td>\n      <td>&lt;NA&gt;</td>\n      <td>Holland</td>\n      <td>False</td>\n      <td>17.0</td>\n      <td>Europe</td>\n    </tr>\n  </tbody>\n</table>\n</div>"
     },
     "execution_count": 30,
     "metadata": {},
     "output_type": "execute_result"
    }
   ],
   "source": [
    "countries = pd.DataFrame({\n",
    "    \"population_millions\": [17, 127, 37],\n",
    "    \"continent\": [\"Europe\", \"Asia\", \"North America\"]},\n",
    "    index=[\"Holland\", \"Japan\", \"Canada\"]\n",
    ")\n",
    "pd.merge(cities, countries, left_on=\"country\", right_index=True, how=\"left\")"
   ],
   "metadata": {
    "collapsed": false,
    "pycharm": {
     "name": "#%%\n"
    }
   }
  },
  {
   "cell_type": "code",
   "execution_count": 31,
   "outputs": [
    {
     "data": {
      "text/plain": "<AxesSubplot: xlabel='year_id'>"
     },
     "execution_count": 31,
     "metadata": {},
     "output_type": "execute_result"
    },
    {
     "data": {
      "text/plain": "<Figure size 432x288 with 1 Axes>",
      "image/png": "[encoded data removed]"
     },
     "metadata": {
      "needs_background": "light"
     },
     "output_type": "display_data"
    }
   ],
   "source": [
    "%matplotlib inline\n",
    "nba[nba[\"fran_id\"] == \"Knicks\"].groupby(\"year_id\").pts.sum().plot()"
   ],
   "metadata": {
    "collapsed": false,
    "pycharm": {
     "name": "#%%\n"
    }
   }
  },
  {
   "cell_type": "code",
   "execution_count": 32,
   "outputs": [
    {
     "data": {
      "text/plain": "array(['Huskies', 'Knicks', 'Stags', ..., 'Cavaliers', 'Cavaliers',\n       'Warriors'], dtype=object)"
     },
     "execution_count": 32,
     "metadata": {},
     "output_type": "execute_result"
    },
    {
     "data": {
      "text/plain": "<Figure size 432x288 with 1 Axes>",
      "image/png": "[encoded data removed]"
     },
     "metadata": {
      "needs_background": "light"
     },
     "output_type": "display_data"
    }
   ],
   "source": [
    "nba[\"fran_id\"].value_counts().head(10).plot(kind=\"bar\")\n",
    "nba[\"fran_id\"].values"
   ],
   "metadata": {
    "collapsed": false,
    "pycharm": {
     "name": "#%%\n"
    }
   }
  },
  {
   "cell_type": "code",
   "execution_count": 33,
   "outputs": [
    {
     "data": {
      "text/plain": "<AxesSubplot: ylabel='game_result'>"
     },
     "execution_count": 33,
     "metadata": {},
     "output_type": "execute_result"
    },
    {
     "data": {
      "text/plain": "<Figure size 432x288 with 1 Axes>",
      "image/png": "[encoded data removed]"
     },
     "metadata": {},
     "output_type": "display_data"
    }
   ],
   "source": [
    "results = nba[(nba.fran_id=='Heat') & (nba.year_id==2013)].game_result\n",
    "results.value_counts().plot(kind=\"pie\")"
   ],
   "metadata": {
    "collapsed": false,
    "pycharm": {
     "name": "#%%\n"
    }
   }
  }
 ],
 "metadata": {
  "kernelspec": {
   "display_name": "Python 3",
   "language": "python",
   "name": "python3"
  },
  "language_info": {
   "codemirror_mode": {
    "name": "ipython",
    "version": 3
   },
   "file_extension": ".py",
   "mimetype": "text/x-python",
   "name": "python",
   "nbconvert_exporter": "python",
   "pygments_lexer": "ipython3",
   "version": "3.9.0"
  }
 },
 "nbformat": 4,
 "nbformat_minor": 1
}