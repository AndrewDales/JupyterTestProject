{
 "cells": [
  {
   "cell_type": "code",
   "execution_count": 181,
   "metadata": {
    "collapsed": true
   },
   "outputs": [],
   "source": [
    "# import requests\n",
    "# import pandas as pd\n",
    "#\n",
    "# download_url = \"https://raw.githubusercontent.com/fivethirtyeight/data/master/nba-elo/nbaallelo.csv\"\n",
    "# target_csv_path = \"nba_all_elo.csv\"\n",
    "#\n",
    "# response = requests.get(download_url)\n",
    "# response.raise_for_status()    # Check that the request was successful\n",
    "# with open(target_csv_path, \"wb\") as f:\n",
    "#     f.write(response.content)\n",
    "# print(\"Download ready.\")"
   ]
  },
  {
   "cell_type": "code",
   "execution_count": 182,
   "metadata": {
    "pycharm": {
     "name": "#%%\n"
    }
   },
   "outputs": [
    {
     "data": {
      "text/plain": "        gameorder       game_id lg_id  _iscopy  year_id   date_game  \\\n76273       38137  199511150NJN   NBA        0     1996  11/15/1995   \n23702       11852  197103160BUF   NBA        1     1971   3/16/1971   \n69703       34852  199301020ATL   NBA        0     1993    1/2/1993   \n81833       40917  199712200ORL   NBA        0     1998  12/20/1997   \n119293      59647  201212280UTA   NBA        0     2013  12/28/2012   \n44076       22039  198011180POR   NBA        0     1981  11/18/1980   \n71656       35829  199311270CLE   NBA        0     1994  11/27/1993   \n96259       48130  200401020NYK   NBA        0     2004    1/2/2004   \n69173       34587  199211190SAS   NBA        1     1993  11/19/1992   \n82920       41461  199803120LAC   NBA        0     1998   3/12/1998   \n\n        seasongame  is_playoffs team_id       fran_id  pts    elo_i    elo_n  \\\n76273            6            0     NJN          Nets   90  1401.66  1412.75   \n23702           79            0     CIN         Kings  113  1393.40  1401.92   \n69703           28            0     ATL         Hawks   93  1401.82  1385.40   \n81833           26            0     ORL         Magic   92  1493.41  1488.13   \n119293          31            0     UTA          Jazz  114  1515.60  1511.74   \n44076           19            0     POR  Trailblazers  122  1437.19  1447.74   \n71656           11            0     CLE     Cavaliers  101  1564.68  1575.38   \n96259           34            0     NYK        Knicks   99  1493.67  1480.10   \n69173            6            0     DAL     Mavericks   95  1309.45  1303.50   \n82920           62            0     LAC      Clippers   85  1286.15  1280.67   \n\n        win_equiv opp_id  opp_fran  opp_pts  opp_elo_i  opp_elo_n  \\\n76273       33.37    CHH  Pelicans       79    1503.71    1492.61   \n23702       36.97    BUF  Clippers      102    1228.08    1219.56   \n69703       29.94    MIL     Bucks      106    1414.34    1430.76   \n81833       40.33    IND    Pacers       95    1608.95    1614.22   \n119293      41.79    LAC  Clippers      116    1673.52    1677.38   \n44076       36.03    DEN   Nuggets      103    1437.38    1426.83   \n71656       49.17    SEA   Thunder       90    1656.89    1646.19   \n96259       38.59    CHI     Bulls      104    1365.39    1378.96   \n69173       22.50    SAS     Spurs      123    1479.99    1485.94   \n82920       20.57    LAL    Lakers      108    1645.59    1651.07   \n\n       game_location game_result  forecast           notes  \n76273              H           W      0.50             NaN  \n23702              A           W      0.59             NaN  \n69703              H           L      0.62             NaN  \n81833              H           L      0.48             NaN  \n119293             H           L      0.42             NaN  \n44076              H           W      0.64             NaN  \n71656              H           W      0.51             NaN  \n96259              H           L      0.79             NaN  \n69173              A           L      0.17             NaN  \n82920              H           L      0.18  at Anaheim, CA  ",
      "text/html": "<div>\n<style scoped>\n    .dataframe tbody tr th:only-of-type {\n        vertical-align: middle;\n    }\n\n    .dataframe tbody tr th {\n        vertical-align: top;\n    }\n\n    .dataframe thead th {\n        text-align: right;\n    }\n</style>\n<table border=\"1\" class=\"dataframe\">\n  <thead>\n    <tr style=\"text-align: right;\">\n      <th></th>\n      <th>gameorder</th>\n      <th>game_id</th>\n      <th>lg_id</th>\n      <th>_iscopy</th>\n      <th>year_id</th>\n      <th>date_game</th>\n      <th>seasongame</th>\n      <th>is_playoffs</th>\n      <th>team_id</th>\n      <th>fran_id</th>\n      <th>pts</th>\n      <th>elo_i</th>\n      <th>elo_n</th>\n      <th>win_equiv</th>\n      <th>opp_id</th>\n      <th>opp_fran</th>\n      <th>opp_pts</th>\n      <th>opp_elo_i</th>\n      <th>opp_elo_n</th>\n      <th>game_location</th>\n      <th>game_result</th>\n      <th>forecast</th>\n      <th>notes</th>\n    </tr>\n  </thead>\n  <tbody>\n    <tr>\n      <th>76273</th>\n      <td>38137</td>\n      <td>199511150NJN</td>\n      <td>NBA</td>\n      <td>0</td>\n      <td>1996</td>\n      <td>11/15/1995</td>\n      <td>6</td>\n      <td>0</td>\n      <td>NJN</td>\n      <td>Nets</td>\n      <td>90</td>\n      <td>1401.66</td>\n      <td>1412.75</td>\n      <td>33.37</td>\n      <td>CHH</td>\n      <td>Pelicans</td>\n      <td>79</td>\n      <td>1503.71</td>\n      <td>1492.61</td>\n      <td>H</td>\n      <td>W</td>\n      <td>0.50</td>\n      <td>NaN</td>\n    </tr>\n    <tr>\n      <th>23702</th>\n      <td>11852</td>\n      <td>197103160BUF</td>\n      <td>NBA</td>\n      <td>1</td>\n      <td>1971</td>\n      <td>3/16/1971</td>\n      <td>79</td>\n      <td>0</td>\n      <td>CIN</td>\n      <td>Kings</td>\n      <td>113</td>\n      <td>1393.40</td>\n      <td>1401.92</td>\n      <td>36.97</td>\n      <td>BUF</td>\n      <td>Clippers</td>\n      <td>102</td>\n      <td>1228.08</td>\n      <td>1219.56</td>\n      <td>A</td>\n      <td>W</td>\n      <td>0.59</td>\n      <td>NaN</td>\n    </tr>\n    <tr>\n      <th>69703</th>\n      <td>34852</td>\n      <td>199301020ATL</td>\n      <td>NBA</td>\n      <td>0</td>\n      <td>1993</td>\n      <td>1/2/1993</td>\n      <td>28</td>\n      <td>0</td>\n      <td>ATL</td>\n      <td>Hawks</td>\n      <td>93</td>\n      <td>1401.82</td>\n      <td>1385.40</td>\n      <td>29.94</td>\n      <td>MIL</td>\n      <td>Bucks</td>\n      <td>106</td>\n      <td>1414.34</td>\n      <td>1430.76</td>\n      <td>H</td>\n      <td>L</td>\n      <td>0.62</td>\n      <td>NaN</td>\n    </tr>\n    <tr>\n      <th>81833</th>\n      <td>40917</td>\n      <td>199712200ORL</td>\n      <td>NBA</td>\n      <td>0</td>\n      <td>1998</td>\n      <td>12/20/1997</td>\n      <td>26</td>\n      <td>0</td>\n      <td>ORL</td>\n      <td>Magic</td>\n      <td>92</td>\n      <td>1493.41</td>\n      <td>1488.13</td>\n      <td>40.33</td>\n      <td>IND</td>\n      <td>Pacers</td>\n      <td>95</td>\n      <td>1608.95</td>\n      <td>1614.22</td>\n      <td>H</td>\n      <td>L</td>\n      <td>0.48</td>\n      <td>NaN</td>\n    </tr>\n    <tr>\n      <th>119293</th>\n      <td>59647</td>\n      <td>201212280UTA</td>\n      <td>NBA</td>\n      <td>0</td>\n      <td>2013</td>\n      <td>12/28/2012</td>\n      <td>31</td>\n      <td>0</td>\n      <td>UTA</td>\n      <td>Jazz</td>\n      <td>114</td>\n      <td>1515.60</td>\n      <td>1511.74</td>\n      <td>41.79</td>\n      <td>LAC</td>\n      <td>Clippers</td>\n      <td>116</td>\n      <td>1673.52</td>\n      <td>1677.38</td>\n      <td>H</td>\n      <td>L</td>\n      <td>0.42</td>\n      <td>NaN</td>\n    </tr>\n    <tr>\n      <th>44076</th>\n      <td>22039</td>\n      <td>198011180POR</td>\n      <td>NBA</td>\n      <td>0</td>\n      <td>1981</td>\n      <td>11/18/1980</td>\n      <td>19</td>\n      <td>0</td>\n      <td>POR</td>\n      <td>Trailblazers</td>\n      <td>122</td>\n      <td>1437.19</td>\n      <td>1447.74</td>\n      <td>36.03</td>\n      <td>DEN</td>\n      <td>Nuggets</td>\n      <td>103</td>\n      <td>1437.38</td>\n      <td>1426.83</td>\n      <td>H</td>\n      <td>W</td>\n      <td>0.64</td>\n      <td>NaN</td>\n    </tr>\n    <tr>\n      <th>71656</th>\n      <td>35829</td>\n      <td>199311270CLE</td>\n      <td>NBA</td>\n      <td>0</td>\n      <td>1994</td>\n      <td>11/27/1993</td>\n      <td>11</td>\n      <td>0</td>\n      <td>CLE</td>\n      <td>Cavaliers</td>\n      <td>101</td>\n      <td>1564.68</td>\n      <td>1575.38</td>\n      <td>49.17</td>\n      <td>SEA</td>\n      <td>Thunder</td>\n      <td>90</td>\n      <td>1656.89</td>\n      <td>1646.19</td>\n      <td>H</td>\n      <td>W</td>\n      <td>0.51</td>\n      <td>NaN</td>\n    </tr>\n    <tr>\n      <th>96259</th>\n      <td>48130</td>\n      <td>200401020NYK</td>\n      <td>NBA</td>\n      <td>0</td>\n      <td>2004</td>\n      <td>1/2/2004</td>\n      <td>34</td>\n      <td>0</td>\n      <td>NYK</td>\n      <td>Knicks</td>\n      <td>99</td>\n      <td>1493.67</td>\n      <td>1480.10</td>\n      <td>38.59</td>\n      <td>CHI</td>\n      <td>Bulls</td>\n      <td>104</td>\n      <td>1365.39</td>\n      <td>1378.96</td>\n      <td>H</td>\n      <td>L</td>\n      <td>0.79</td>\n      <td>NaN</td>\n    </tr>\n    <tr>\n      <th>69173</th>\n      <td>34587</td>\n      <td>199211190SAS</td>\n      <td>NBA</td>\n      <td>1</td>\n      <td>1993</td>\n      <td>11/19/1992</td>\n      <td>6</td>\n      <td>0</td>\n      <td>DAL</td>\n      <td>Mavericks</td>\n      <td>95</td>\n      <td>1309.45</td>\n      <td>1303.50</td>\n      <td>22.50</td>\n      <td>SAS</td>\n      <td>Spurs</td>\n      <td>123</td>\n      <td>1479.99</td>\n      <td>1485.94</td>\n      <td>A</td>\n      <td>L</td>\n      <td>0.17</td>\n      <td>NaN</td>\n    </tr>\n    <tr>\n      <th>82920</th>\n      <td>41461</td>\n      <td>199803120LAC</td>\n      <td>NBA</td>\n      <td>0</td>\n      <td>1998</td>\n      <td>3/12/1998</td>\n      <td>62</td>\n      <td>0</td>\n      <td>LAC</td>\n      <td>Clippers</td>\n      <td>85</td>\n      <td>1286.15</td>\n      <td>1280.67</td>\n      <td>20.57</td>\n      <td>LAL</td>\n      <td>Lakers</td>\n      <td>108</td>\n      <td>1645.59</td>\n      <td>1651.07</td>\n      <td>H</td>\n      <td>L</td>\n      <td>0.18</td>\n      <td>at Anaheim, CA</td>\n    </tr>\n  </tbody>\n</table>\n</div>"
     },
     "execution_count": 182,
     "metadata": {},
     "output_type": "execute_result"
    }
   ],
   "source": [
    "import pandas as pd\n",
    "import numpy as np\n",
    "\n",
    "nba = pd.read_csv(\"nba_all_elo.csv\")\n",
    "pd.set_option(\"display.max.columns\", None)\n",
    "pd.set_option(\"display.precision\", 2)\n",
    "\n",
    "nba.head()\n",
    "nba.tail()\n",
    "nba.sample(10)"
   ]
  },
  {
   "cell_type": "code",
   "execution_count": 183,
   "metadata": {},
   "outputs": [
    {
     "data": {
      "text/plain": "             game_id   lg_id date_game team_id fran_id  opp_id opp_fran  \\\ncount         126314  126314    126314  126314  126314  126314   126314   \nunique         63157       2     12426     104      53     104       53   \ntop     199003230CHI     NBA  1/2/2009     BOS  Lakers     BOS   Lakers   \nfreq               2  118016        30    5997    6024    5997     6024   \n\n       game_location game_result           notes  \ncount         126314      126314            5424  \nunique             3           2             231  \ntop                H           W  at New York NY  \nfreq           63138       63157             440  ",
      "text/html": "<div>\n<style scoped>\n    .dataframe tbody tr th:only-of-type {\n        vertical-align: middle;\n    }\n\n    .dataframe tbody tr th {\n        vertical-align: top;\n    }\n\n    .dataframe thead th {\n        text-align: right;\n    }\n</style>\n<table border=\"1\" class=\"dataframe\">\n  <thead>\n    <tr style=\"text-align: right;\">\n      <th></th>\n      <th>game_id</th>\n      <th>lg_id</th>\n      <th>date_game</th>\n      <th>team_id</th>\n      <th>fran_id</th>\n      <th>opp_id</th>\n      <th>opp_fran</th>\n      <th>game_location</th>\n      <th>game_result</th>\n      <th>notes</th>\n    </tr>\n  </thead>\n  <tbody>\n    <tr>\n      <th>count</th>\n      <td>126314</td>\n      <td>126314</td>\n      <td>126314</td>\n      <td>126314</td>\n      <td>126314</td>\n      <td>126314</td>\n      <td>126314</td>\n      <td>126314</td>\n      <td>126314</td>\n      <td>5424</td>\n    </tr>\n    <tr>\n      <th>unique</th>\n      <td>63157</td>\n      <td>2</td>\n      <td>12426</td>\n      <td>104</td>\n      <td>53</td>\n      <td>104</td>\n      <td>53</td>\n      <td>3</td>\n      <td>2</td>\n      <td>231</td>\n    </tr>\n    <tr>\n      <th>top</th>\n      <td>199003230CHI</td>\n      <td>NBA</td>\n      <td>1/2/2009</td>\n      <td>BOS</td>\n      <td>Lakers</td>\n      <td>BOS</td>\n      <td>Lakers</td>\n      <td>H</td>\n      <td>W</td>\n      <td>at New York NY</td>\n    </tr>\n    <tr>\n      <th>freq</th>\n      <td>2</td>\n      <td>118016</td>\n      <td>30</td>\n      <td>5997</td>\n      <td>6024</td>\n      <td>5997</td>\n      <td>6024</td>\n      <td>63138</td>\n      <td>63157</td>\n      <td>440</td>\n    </tr>\n  </tbody>\n</table>\n</div>"
     },
     "execution_count": 183,
     "metadata": {},
     "output_type": "execute_result"
    }
   ],
   "source": [
    "nba.describe(include=object)"
   ]
  },
  {
   "cell_type": "code",
   "execution_count": 184,
   "outputs": [
    {
     "data": {
      "text/plain": "RangeIndex(start=0, stop=3, step=1)"
     },
     "execution_count": 184,
     "metadata": {},
     "output_type": "execute_result"
    }
   ],
   "source": [
    "revenues = pd.Series([5555, 7000, 1980])\n",
    "revenues\n",
    "revenues.values\n",
    "revenues.index"
   ],
   "metadata": {
    "collapsed": false,
    "pycharm": {
     "name": "#%%\n"
    }
   }
  },
  {
   "cell_type": "code",
   "execution_count": 185,
   "outputs": [
    {
     "data": {
      "text/plain": "Amsterdam    4200\nToronto      8000\nTokyo        6500\ndtype: int64"
     },
     "execution_count": 185,
     "metadata": {},
     "output_type": "execute_result"
    }
   ],
   "source": [
    "city_revenues = pd.Series([4200, 8000, 6500], index=[\"Amsterdam\", \"Toronto\", \"Tokyo\"])\n",
    "city_revenues"
   ],
   "metadata": {
    "collapsed": false,
    "pycharm": {
     "name": "#%%\n"
    }
   }
  },
  {
   "cell_type": "code",
   "execution_count": 186,
   "outputs": [],
   "source": [
    "city_employee_count = pd.Series({\"Amsterdam\": 5, \"Tokyo\": 8})"
   ],
   "metadata": {
    "collapsed": false,
    "pycharm": {
     "name": "#%%\n"
    }
   }
  },
  {
   "cell_type": "code",
   "execution_count": 187,
   "outputs": [
    {
     "data": {
      "text/plain": "           revenue  employee_count\nAmsterdam     4200             5.0\nTokyo         6500             8.0\nToronto       8000             NaN",
      "text/html": "<div>\n<style scoped>\n    .dataframe tbody tr th:only-of-type {\n        vertical-align: middle;\n    }\n\n    .dataframe tbody tr th {\n        vertical-align: top;\n    }\n\n    .dataframe thead th {\n        text-align: right;\n    }\n</style>\n<table border=\"1\" class=\"dataframe\">\n  <thead>\n    <tr style=\"text-align: right;\">\n      <th></th>\n      <th>revenue</th>\n      <th>employee_count</th>\n    </tr>\n  </thead>\n  <tbody>\n    <tr>\n      <th>Amsterdam</th>\n      <td>4200</td>\n      <td>5.0</td>\n    </tr>\n    <tr>\n      <th>Tokyo</th>\n      <td>6500</td>\n      <td>8.0</td>\n    </tr>\n    <tr>\n      <th>Toronto</th>\n      <td>8000</td>\n      <td>NaN</td>\n    </tr>\n  </tbody>\n</table>\n</div>"
     },
     "execution_count": 187,
     "metadata": {},
     "output_type": "execute_result"
    }
   ],
   "source": [
    "city_data = pd.DataFrame({\"revenue\": city_revenues,\n",
    "                          \"employee_count\": city_employee_count})\n",
    "city_data"
   ],
   "metadata": {
    "collapsed": false,
    "pycharm": {
     "name": "#%%\n"
    }
   }
  },
  {
   "cell_type": "code",
   "execution_count": 188,
   "outputs": [
    {
     "name": "stdout",
     "output_type": "stream",
     "text": [
      "Index(['Amsterdam', 'Tokyo', 'Toronto'], dtype='object')\n",
      "[[4.2e+03 5.0e+00]\n",
      " [6.5e+03 8.0e+00]\n",
      " [8.0e+03     nan]]\n"
     ]
    }
   ],
   "source": [
    "print(city_data.index)\n",
    "print(city_data.values)"
   ],
   "metadata": {
    "collapsed": false,
    "pycharm": {
     "name": "#%%\n"
    }
   }
  },
  {
   "cell_type": "code",
   "execution_count": 189,
   "outputs": [
    {
     "name": "stdout",
     "output_type": "stream",
     "text": [
      "[Index(['Amsterdam', 'Tokyo', 'Toronto'], dtype='object'), Index(['revenue', 'employee_count'], dtype='object')]\n"
     ]
    },
    {
     "data": {
      "text/plain": "Index(['Amsterdam', 'Tokyo', 'Toronto'], dtype='object')"
     },
     "execution_count": 189,
     "metadata": {},
     "output_type": "execute_result"
    }
   ],
   "source": [
    "print(city_data.axes)\n",
    "city_data[\"revenue\"].keys()"
   ],
   "metadata": {
    "collapsed": false,
    "pycharm": {
     "name": "#%%\n"
    }
   }
  },
  {
   "cell_type": "code",
   "execution_count": 190,
   "outputs": [
    {
     "data": {
      "text/plain": "8000"
     },
     "execution_count": 190,
     "metadata": {},
     "output_type": "execute_result"
    }
   ],
   "source": [
    "city_revenues[\"Toronto\"]\n",
    "city_revenues[1]"
   ],
   "metadata": {
    "collapsed": false,
    "pycharm": {
     "name": "#%%\n"
    }
   }
  },
  {
   "cell_type": "code",
   "execution_count": 191,
   "outputs": [
    {
     "name": "stdout",
     "output_type": "stream",
     "text": [
      "1       red\n",
      "2    purple\n",
      "3      blue\n",
      "5     green\n",
      "8    yellow\n",
      "dtype: object\n",
      "blue green blue\n"
     ]
    }
   ],
   "source": [
    "colors = pd.Series([\"red\", \"purple\", \"blue\", \"green\", \"yellow\"],\n",
    "                   index=[1, 2, 3, 5, 8])\n",
    "print(colors)\n",
    "print(colors.loc[3], colors.iloc[3], colors[3])"
   ],
   "metadata": {
    "collapsed": false,
    "pycharm": {
     "name": "#%%\n"
    }
   }
  },
  {
   "cell_type": "code",
   "execution_count": 192,
   "outputs": [
    {
     "name": "stdout",
     "output_type": "stream",
     "text": [
      "revenue           4200.0\n",
      "employee_count       5.0\n",
      "Name: Amsterdam, dtype: float64\n"
     ]
    },
    {
     "data": {
      "text/plain": "revenue           6500.0\nemployee_count       8.0\nName: Tokyo, dtype: float64"
     },
     "execution_count": 192,
     "metadata": {},
     "output_type": "execute_result"
    }
   ],
   "source": [
    "print(city_data.loc[\"Amsterdam\"])\n",
    "city_data.iloc[1]"
   ],
   "metadata": {
    "collapsed": false,
    "pycharm": {
     "name": "#%%\n"
    }
   }
  },
  {
   "cell_type": "code",
   "execution_count": 193,
   "outputs": [
    {
     "data": {
      "text/plain": "(12658, 23)"
     },
     "execution_count": 193,
     "metadata": {},
     "output_type": "execute_result"
    }
   ],
   "source": [
    "current_decade = nba[nba[\"year_id\"]>2010]\n",
    "current_decade.shape\n"
   ],
   "metadata": {
    "collapsed": false,
    "pycharm": {
     "name": "#%%\n"
    }
   }
  },
  {
   "cell_type": "code",
   "execution_count": 194,
   "outputs": [
    {
     "name": "stdout",
     "output_type": "stream",
     "text": [
      "(5424, 23)\n"
     ]
    },
    {
     "data": {
      "text/plain": "       gameorder       game_id lg_id  _iscopy  year_id   date_game  \\\n26000      13001  197203040NYA   ABA        1     1972    3/4/1972   \n41684      20843  197904220PHO   NBA        0     1979   4/22/1979   \n13160       6581  196501220DET   NBA        1     1965   1/22/1965   \n20283      10142  197001030CAR   ABA        1     1970    1/3/1970   \n10692       5347  196112230CIN   NBA        1     1962  12/23/1961   \n18943       9472  196903130MIL   NBA        1     1969   3/13/1969   \n20247      10124  196912310CAR   ABA        1     1970  12/31/1969   \n4248        2125  195201290INO   NBA        1     1952   1/29/1952   \n33845      16923  197510280VIR   ABA        1     1976  10/28/1975   \n27688      13845  197301110DNR   ABA        1     1973   1/11/1973   \n\n       seasongame  is_playoffs team_id     fran_id  pts    elo_i    elo_n  \\\n26000          70            0     PTC     Condors  123  1276.42  1273.06   \n41684          88            1     PHO        Suns  108  1587.02  1595.07   \n13160          47            0     PHI      Sixers  109  1487.39  1494.84   \n20283          41            0     NYA        Nets   91  1315.96  1309.83   \n10692          30            0     DET     Pistons  134  1426.42  1443.56   \n18943          76            0     SEA     Thunder  141  1393.86  1412.90   \n20247          37            0     MMF  Floridians  101  1287.75  1279.68   \n4248           43            0     NYK      Knicks   72  1554.44  1537.37   \n33845           3            0     SAA       Spurs  108  1546.34  1549.78   \n27688          51            0     SDA       Sails  109  1305.72  1303.99   \n\n       win_equiv opp_id   opp_fran  opp_pts  opp_elo_i  opp_elo_n  \\\n26000      24.47    NYA       Nets      133    1423.56    1426.93   \n41684      50.42    KCK      Kings       93    1562.74    1554.70   \n13160      40.79    DET    Pistons      103    1377.38    1369.93   \n20283      32.74    CAR    Spirits      100    1328.79    1334.91   \n10692      36.59    CIN      Kings      125    1514.85    1497.72   \n18943      37.76    MIL      Bucks      118    1308.34    1289.30   \n20247      29.76    CAR    Spirits      117    1320.72    1328.79   \n4248       43.86    INO  Olympians      100    1505.43    1522.50   \n33845      46.58    VIR    Squires      103    1279.81    1276.37   \n27688      25.18    DNR    Nuggets      113    1484.75    1486.48   \n\n      game_location game_result  forecast             notes  \n26000             A           L      0.19   at Uniondale NY  \n41684             H           W      0.67      at Tempe, AZ  \n13160             A           W      0.51      at Boston MA  \n20283             A           L      0.34     at Raleigh NC  \n10692             A           W      0.25   at St. Louis MO  \n18943             A           W      0.48   at Green Bay WI  \n20247             A           L      0.32   at Charlotte NC  \n4248              A           L      0.43  at Louisville KY  \n33845             A           W      0.72     at Norfolk VA  \n27688             A           L      0.17      at Dallas TX  ",
      "text/html": "<div>\n<style scoped>\n    .dataframe tbody tr th:only-of-type {\n        vertical-align: middle;\n    }\n\n    .dataframe tbody tr th {\n        vertical-align: top;\n    }\n\n    .dataframe thead th {\n        text-align: right;\n    }\n</style>\n<table border=\"1\" class=\"dataframe\">\n  <thead>\n    <tr style=\"text-align: right;\">\n      <th></th>\n      <th>gameorder</th>\n      <th>game_id</th>\n      <th>lg_id</th>\n      <th>_iscopy</th>\n      <th>year_id</th>\n      <th>date_game</th>\n      <th>seasongame</th>\n      <th>is_playoffs</th>\n      <th>team_id</th>\n      <th>fran_id</th>\n      <th>pts</th>\n      <th>elo_i</th>\n      <th>elo_n</th>\n      <th>win_equiv</th>\n      <th>opp_id</th>\n      <th>opp_fran</th>\n      <th>opp_pts</th>\n      <th>opp_elo_i</th>\n      <th>opp_elo_n</th>\n      <th>game_location</th>\n      <th>game_result</th>\n      <th>forecast</th>\n      <th>notes</th>\n    </tr>\n  </thead>\n  <tbody>\n    <tr>\n      <th>26000</th>\n      <td>13001</td>\n      <td>197203040NYA</td>\n      <td>ABA</td>\n      <td>1</td>\n      <td>1972</td>\n      <td>3/4/1972</td>\n      <td>70</td>\n      <td>0</td>\n      <td>PTC</td>\n      <td>Condors</td>\n      <td>123</td>\n      <td>1276.42</td>\n      <td>1273.06</td>\n      <td>24.47</td>\n      <td>NYA</td>\n      <td>Nets</td>\n      <td>133</td>\n      <td>1423.56</td>\n      <td>1426.93</td>\n      <td>A</td>\n      <td>L</td>\n      <td>0.19</td>\n      <td>at Uniondale NY</td>\n    </tr>\n    <tr>\n      <th>41684</th>\n      <td>20843</td>\n      <td>197904220PHO</td>\n      <td>NBA</td>\n      <td>0</td>\n      <td>1979</td>\n      <td>4/22/1979</td>\n      <td>88</td>\n      <td>1</td>\n      <td>PHO</td>\n      <td>Suns</td>\n      <td>108</td>\n      <td>1587.02</td>\n      <td>1595.07</td>\n      <td>50.42</td>\n      <td>KCK</td>\n      <td>Kings</td>\n      <td>93</td>\n      <td>1562.74</td>\n      <td>1554.70</td>\n      <td>H</td>\n      <td>W</td>\n      <td>0.67</td>\n      <td>at Tempe, AZ</td>\n    </tr>\n    <tr>\n      <th>13160</th>\n      <td>6581</td>\n      <td>196501220DET</td>\n      <td>NBA</td>\n      <td>1</td>\n      <td>1965</td>\n      <td>1/22/1965</td>\n      <td>47</td>\n      <td>0</td>\n      <td>PHI</td>\n      <td>Sixers</td>\n      <td>109</td>\n      <td>1487.39</td>\n      <td>1494.84</td>\n      <td>40.79</td>\n      <td>DET</td>\n      <td>Pistons</td>\n      <td>103</td>\n      <td>1377.38</td>\n      <td>1369.93</td>\n      <td>A</td>\n      <td>W</td>\n      <td>0.51</td>\n      <td>at Boston MA</td>\n    </tr>\n    <tr>\n      <th>20283</th>\n      <td>10142</td>\n      <td>197001030CAR</td>\n      <td>ABA</td>\n      <td>1</td>\n      <td>1970</td>\n      <td>1/3/1970</td>\n      <td>41</td>\n      <td>0</td>\n      <td>NYA</td>\n      <td>Nets</td>\n      <td>91</td>\n      <td>1315.96</td>\n      <td>1309.83</td>\n      <td>32.74</td>\n      <td>CAR</td>\n      <td>Spirits</td>\n      <td>100</td>\n      <td>1328.79</td>\n      <td>1334.91</td>\n      <td>A</td>\n      <td>L</td>\n      <td>0.34</td>\n      <td>at Raleigh NC</td>\n    </tr>\n    <tr>\n      <th>10692</th>\n      <td>5347</td>\n      <td>196112230CIN</td>\n      <td>NBA</td>\n      <td>1</td>\n      <td>1962</td>\n      <td>12/23/1961</td>\n      <td>30</td>\n      <td>0</td>\n      <td>DET</td>\n      <td>Pistons</td>\n      <td>134</td>\n      <td>1426.42</td>\n      <td>1443.56</td>\n      <td>36.59</td>\n      <td>CIN</td>\n      <td>Kings</td>\n      <td>125</td>\n      <td>1514.85</td>\n      <td>1497.72</td>\n      <td>A</td>\n      <td>W</td>\n      <td>0.25</td>\n      <td>at St. Louis MO</td>\n    </tr>\n    <tr>\n      <th>18943</th>\n      <td>9472</td>\n      <td>196903130MIL</td>\n      <td>NBA</td>\n      <td>1</td>\n      <td>1969</td>\n      <td>3/13/1969</td>\n      <td>76</td>\n      <td>0</td>\n      <td>SEA</td>\n      <td>Thunder</td>\n      <td>141</td>\n      <td>1393.86</td>\n      <td>1412.90</td>\n      <td>37.76</td>\n      <td>MIL</td>\n      <td>Bucks</td>\n      <td>118</td>\n      <td>1308.34</td>\n      <td>1289.30</td>\n      <td>A</td>\n      <td>W</td>\n      <td>0.48</td>\n      <td>at Green Bay WI</td>\n    </tr>\n    <tr>\n      <th>20247</th>\n      <td>10124</td>\n      <td>196912310CAR</td>\n      <td>ABA</td>\n      <td>1</td>\n      <td>1970</td>\n      <td>12/31/1969</td>\n      <td>37</td>\n      <td>0</td>\n      <td>MMF</td>\n      <td>Floridians</td>\n      <td>101</td>\n      <td>1287.75</td>\n      <td>1279.68</td>\n      <td>29.76</td>\n      <td>CAR</td>\n      <td>Spirits</td>\n      <td>117</td>\n      <td>1320.72</td>\n      <td>1328.79</td>\n      <td>A</td>\n      <td>L</td>\n      <td>0.32</td>\n      <td>at Charlotte NC</td>\n    </tr>\n    <tr>\n      <th>4248</th>\n      <td>2125</td>\n      <td>195201290INO</td>\n      <td>NBA</td>\n      <td>1</td>\n      <td>1952</td>\n      <td>1/29/1952</td>\n      <td>43</td>\n      <td>0</td>\n      <td>NYK</td>\n      <td>Knicks</td>\n      <td>72</td>\n      <td>1554.44</td>\n      <td>1537.37</td>\n      <td>43.86</td>\n      <td>INO</td>\n      <td>Olympians</td>\n      <td>100</td>\n      <td>1505.43</td>\n      <td>1522.50</td>\n      <td>A</td>\n      <td>L</td>\n      <td>0.43</td>\n      <td>at Louisville KY</td>\n    </tr>\n    <tr>\n      <th>33845</th>\n      <td>16923</td>\n      <td>197510280VIR</td>\n      <td>ABA</td>\n      <td>1</td>\n      <td>1976</td>\n      <td>10/28/1975</td>\n      <td>3</td>\n      <td>0</td>\n      <td>SAA</td>\n      <td>Spurs</td>\n      <td>108</td>\n      <td>1546.34</td>\n      <td>1549.78</td>\n      <td>46.58</td>\n      <td>VIR</td>\n      <td>Squires</td>\n      <td>103</td>\n      <td>1279.81</td>\n      <td>1276.37</td>\n      <td>A</td>\n      <td>W</td>\n      <td>0.72</td>\n      <td>at Norfolk VA</td>\n    </tr>\n    <tr>\n      <th>27688</th>\n      <td>13845</td>\n      <td>197301110DNR</td>\n      <td>ABA</td>\n      <td>1</td>\n      <td>1973</td>\n      <td>1/11/1973</td>\n      <td>51</td>\n      <td>0</td>\n      <td>SDA</td>\n      <td>Sails</td>\n      <td>109</td>\n      <td>1305.72</td>\n      <td>1303.99</td>\n      <td>25.18</td>\n      <td>DNR</td>\n      <td>Nuggets</td>\n      <td>113</td>\n      <td>1484.75</td>\n      <td>1486.48</td>\n      <td>A</td>\n      <td>L</td>\n      <td>0.17</td>\n      <td>at Dallas TX</td>\n    </tr>\n  </tbody>\n</table>\n</div>"
     },
     "execution_count": 194,
     "metadata": {},
     "output_type": "execute_result"
    }
   ],
   "source": [
    "games_with_notes = nba[nba[\"notes\"].notnull()]\n",
    "print(games_with_notes.shape)\n",
    "games_with_notes.sample(10)"
   ],
   "metadata": {
    "collapsed": false,
    "pycharm": {
     "name": "#%%\n"
    }
   }
  },
  {
   "cell_type": "code",
   "execution_count": 195,
   "outputs": [
    {
     "data": {
      "text/plain": "      gameorder       game_id lg_id  _iscopy  year_id  date_game  seasongame  \\\n1726        864  194902260BLB   NBA        0     1949  2/26/1949          53   \n4890       2446  195301100BLB   NBA        0     1953  1/10/1953          32   \n4909       2455  195301140BLB   NBA        0     1953  1/14/1953          34   \n5208       2605  195303110BLB   NBA        0     1953  3/11/1953          66   \n5825       2913  195402220BLB   NBA        0     1954  2/22/1954          60   \n\n      is_playoffs team_id    fran_id  pts    elo_i    elo_n  win_equiv opp_id  \\\n1726            0     BLB  Baltimore  114  1421.94  1419.43      38.56    MNL   \n4890            0     BLB  Baltimore  126  1328.67  1356.65      25.80    BOS   \n4909            0     BLB  Baltimore  104  1349.83  1346.36      24.88    MNL   \n5208            0     BLB  Baltimore  107  1284.52  1282.24      19.58    NYK   \n5825            0     BLB  Baltimore  110  1303.75  1301.97      20.74    BOS   \n\n     opp_fran  opp_pts  opp_elo_i  opp_elo_n game_location game_result  \\\n1726   Lakers      115    1637.99    1640.49             H           L   \n4890  Celtics      105    1591.14    1563.17             H           W   \n4909   Lakers      112    1665.44    1668.91             H           L   \n5208   Knicks      113    1649.15    1651.44             H           L   \n5825  Celtics      111    1591.49    1593.27             H           L   \n\n      forecast            notes  \n1726      0.34              NaN  \n4890      0.28              NaN  \n4909      0.22              NaN  \n5208      0.18     at Boston MA  \n5825      0.25  at Worcester MA  ",
      "text/html": "<div>\n<style scoped>\n    .dataframe tbody tr th:only-of-type {\n        vertical-align: middle;\n    }\n\n    .dataframe tbody tr th {\n        vertical-align: top;\n    }\n\n    .dataframe thead th {\n        text-align: right;\n    }\n</style>\n<table border=\"1\" class=\"dataframe\">\n  <thead>\n    <tr style=\"text-align: right;\">\n      <th></th>\n      <th>gameorder</th>\n      <th>game_id</th>\n      <th>lg_id</th>\n      <th>_iscopy</th>\n      <th>year_id</th>\n      <th>date_game</th>\n      <th>seasongame</th>\n      <th>is_playoffs</th>\n      <th>team_id</th>\n      <th>fran_id</th>\n      <th>pts</th>\n      <th>elo_i</th>\n      <th>elo_n</th>\n      <th>win_equiv</th>\n      <th>opp_id</th>\n      <th>opp_fran</th>\n      <th>opp_pts</th>\n      <th>opp_elo_i</th>\n      <th>opp_elo_n</th>\n      <th>game_location</th>\n      <th>game_result</th>\n      <th>forecast</th>\n      <th>notes</th>\n    </tr>\n  </thead>\n  <tbody>\n    <tr>\n      <th>1726</th>\n      <td>864</td>\n      <td>194902260BLB</td>\n      <td>NBA</td>\n      <td>0</td>\n      <td>1949</td>\n      <td>2/26/1949</td>\n      <td>53</td>\n      <td>0</td>\n      <td>BLB</td>\n      <td>Baltimore</td>\n      <td>114</td>\n      <td>1421.94</td>\n      <td>1419.43</td>\n      <td>38.56</td>\n      <td>MNL</td>\n      <td>Lakers</td>\n      <td>115</td>\n      <td>1637.99</td>\n      <td>1640.49</td>\n      <td>H</td>\n      <td>L</td>\n      <td>0.34</td>\n      <td>NaN</td>\n    </tr>\n    <tr>\n      <th>4890</th>\n      <td>2446</td>\n      <td>195301100BLB</td>\n      <td>NBA</td>\n      <td>0</td>\n      <td>1953</td>\n      <td>1/10/1953</td>\n      <td>32</td>\n      <td>0</td>\n      <td>BLB</td>\n      <td>Baltimore</td>\n      <td>126</td>\n      <td>1328.67</td>\n      <td>1356.65</td>\n      <td>25.80</td>\n      <td>BOS</td>\n      <td>Celtics</td>\n      <td>105</td>\n      <td>1591.14</td>\n      <td>1563.17</td>\n      <td>H</td>\n      <td>W</td>\n      <td>0.28</td>\n      <td>NaN</td>\n    </tr>\n    <tr>\n      <th>4909</th>\n      <td>2455</td>\n      <td>195301140BLB</td>\n      <td>NBA</td>\n      <td>0</td>\n      <td>1953</td>\n      <td>1/14/1953</td>\n      <td>34</td>\n      <td>0</td>\n      <td>BLB</td>\n      <td>Baltimore</td>\n      <td>104</td>\n      <td>1349.83</td>\n      <td>1346.36</td>\n      <td>24.88</td>\n      <td>MNL</td>\n      <td>Lakers</td>\n      <td>112</td>\n      <td>1665.44</td>\n      <td>1668.91</td>\n      <td>H</td>\n      <td>L</td>\n      <td>0.22</td>\n      <td>NaN</td>\n    </tr>\n    <tr>\n      <th>5208</th>\n      <td>2605</td>\n      <td>195303110BLB</td>\n      <td>NBA</td>\n      <td>0</td>\n      <td>1953</td>\n      <td>3/11/1953</td>\n      <td>66</td>\n      <td>0</td>\n      <td>BLB</td>\n      <td>Baltimore</td>\n      <td>107</td>\n      <td>1284.52</td>\n      <td>1282.24</td>\n      <td>19.58</td>\n      <td>NYK</td>\n      <td>Knicks</td>\n      <td>113</td>\n      <td>1649.15</td>\n      <td>1651.44</td>\n      <td>H</td>\n      <td>L</td>\n      <td>0.18</td>\n      <td>at Boston MA</td>\n    </tr>\n    <tr>\n      <th>5825</th>\n      <td>2913</td>\n      <td>195402220BLB</td>\n      <td>NBA</td>\n      <td>0</td>\n      <td>1954</td>\n      <td>2/22/1954</td>\n      <td>60</td>\n      <td>0</td>\n      <td>BLB</td>\n      <td>Baltimore</td>\n      <td>110</td>\n      <td>1303.75</td>\n      <td>1301.97</td>\n      <td>20.74</td>\n      <td>BOS</td>\n      <td>Celtics</td>\n      <td>111</td>\n      <td>1591.49</td>\n      <td>1593.27</td>\n      <td>H</td>\n      <td>L</td>\n      <td>0.25</td>\n      <td>at Worcester MA</td>\n    </tr>\n  </tbody>\n</table>\n</div>"
     },
     "execution_count": 195,
     "metadata": {},
     "output_type": "execute_result"
    }
   ],
   "source": [
    "nba[\n",
    "    (nba[\"pts\"] > 100) &\n",
    "    (nba[\"opp_pts\"] > 100) &\n",
    "    (nba[\"team_id\"] == \"BLB\")\n",
    "]"
   ],
   "metadata": {
    "collapsed": false,
    "pycharm": {
     "name": "#%%\n"
    }
   }
  },
  {
   "cell_type": "code",
   "execution_count": 196,
   "outputs": [
    {
     "data": {
      "text/plain": "       gameorder       game_id lg_id  _iscopy  year_id date_game  seasongame  \\\n68901      34451  199205030LAC   NBA        0     1992  5/3/1992          86   \n68903      34452  199205030LAL   NBA        0     1992  5/3/1992          86   \n\n       is_playoffs team_id   fran_id  pts    elo_i   elo_n  win_equiv opp_id  \\\n68901            1     LAC  Clippers  115  1546.90  1556.0      47.89    UTA   \n68903            1     LAL    Lakers   76  1489.65  1474.4      39.40    POR   \n\n           opp_fran  opp_pts  opp_elo_i  opp_elo_n game_location game_result  \\\n68901          Jazz      107    1647.51    1638.41             H           W   \n68903  Trailblazers      102    1655.12    1670.37             H           L   \n\n       forecast                                       notes  \n68901      0.50  at Anaheim, CA (Anaheim Convention Center)  \n68903      0.41                            at Las Vegas, NV  ",
      "text/html": "<div>\n<style scoped>\n    .dataframe tbody tr th:only-of-type {\n        vertical-align: middle;\n    }\n\n    .dataframe tbody tr th {\n        vertical-align: top;\n    }\n\n    .dataframe thead th {\n        text-align: right;\n    }\n</style>\n<table border=\"1\" class=\"dataframe\">\n  <thead>\n    <tr style=\"text-align: right;\">\n      <th></th>\n      <th>gameorder</th>\n      <th>game_id</th>\n      <th>lg_id</th>\n      <th>_iscopy</th>\n      <th>year_id</th>\n      <th>date_game</th>\n      <th>seasongame</th>\n      <th>is_playoffs</th>\n      <th>team_id</th>\n      <th>fran_id</th>\n      <th>pts</th>\n      <th>elo_i</th>\n      <th>elo_n</th>\n      <th>win_equiv</th>\n      <th>opp_id</th>\n      <th>opp_fran</th>\n      <th>opp_pts</th>\n      <th>opp_elo_i</th>\n      <th>opp_elo_n</th>\n      <th>game_location</th>\n      <th>game_result</th>\n      <th>forecast</th>\n      <th>notes</th>\n    </tr>\n  </thead>\n  <tbody>\n    <tr>\n      <th>68901</th>\n      <td>34451</td>\n      <td>199205030LAC</td>\n      <td>NBA</td>\n      <td>0</td>\n      <td>1992</td>\n      <td>5/3/1992</td>\n      <td>86</td>\n      <td>1</td>\n      <td>LAC</td>\n      <td>Clippers</td>\n      <td>115</td>\n      <td>1546.90</td>\n      <td>1556.0</td>\n      <td>47.89</td>\n      <td>UTA</td>\n      <td>Jazz</td>\n      <td>107</td>\n      <td>1647.51</td>\n      <td>1638.41</td>\n      <td>H</td>\n      <td>W</td>\n      <td>0.50</td>\n      <td>at Anaheim, CA (Anaheim Convention Center)</td>\n    </tr>\n    <tr>\n      <th>68903</th>\n      <td>34452</td>\n      <td>199205030LAL</td>\n      <td>NBA</td>\n      <td>0</td>\n      <td>1992</td>\n      <td>5/3/1992</td>\n      <td>86</td>\n      <td>1</td>\n      <td>LAL</td>\n      <td>Lakers</td>\n      <td>76</td>\n      <td>1489.65</td>\n      <td>1474.4</td>\n      <td>39.40</td>\n      <td>POR</td>\n      <td>Trailblazers</td>\n      <td>102</td>\n      <td>1655.12</td>\n      <td>1670.37</td>\n      <td>H</td>\n      <td>L</td>\n      <td>0.41</td>\n      <td>at Las Vegas, NV</td>\n    </tr>\n  </tbody>\n</table>\n</div>"
     },
     "execution_count": 196,
     "metadata": {},
     "output_type": "execute_result"
    }
   ],
   "source": [
    "nba[\n",
    "    (nba[\"team_id\"].str.startswith(\"LA\")) &\n",
    "    (nba.year_id == 1992) &\n",
    "    (nba.game_location == 'H') &\n",
    "    (nba.notes.notnull())\n",
    "]"
   ],
   "metadata": {
    "collapsed": false,
    "pycharm": {
     "name": "#%%\n"
    }
   }
  },
  {
   "cell_type": "code",
   "execution_count": 197,
   "outputs": [
    {
     "data": {
      "text/plain": "186"
     },
     "execution_count": 197,
     "metadata": {},
     "output_type": "execute_result"
    }
   ],
   "source": [
    "points = nba[\"pts\"]\n",
    "type(points)\n",
    "points.max()"
   ],
   "metadata": {
    "collapsed": false,
    "pycharm": {
     "name": "#%%\n"
    }
   }
  },
  {
   "cell_type": "code",
   "execution_count": 198,
   "outputs": [
    {
     "data": {
      "text/plain": "fran_id\nHuskies          66.58\nKnicks          100.97\nStags            78.45\nFalcons          63.28\nCapitols         76.93\n                 ...  \nTimberwolves     97.46\nMagic            99.43\nGrizzlies        95.16\nRaptors          96.92\nHornets          94.51\nName: pts, Length: 53, dtype: float64"
     },
     "execution_count": 198,
     "metadata": {},
     "output_type": "execute_result"
    }
   ],
   "source": [
    "nba.groupby(\"fran_id\", sort=False)[\"pts\"].mean()"
   ],
   "metadata": {
    "collapsed": false,
    "pycharm": {
     "name": "#%%\n"
    }
   }
  },
  {
   "cell_type": "code",
   "execution_count": 199,
   "outputs": [
    {
     "data": {
      "text/plain": "year_id  game_result\n2011     L              25\n         W              63\n2012     L              20\n         W              60\n2013     L              30\n         W              73\n2014     L              27\n         W              78\n2015     L              31\n         W              58\nName: game_id, dtype: int64"
     },
     "execution_count": 199,
     "metadata": {},
     "output_type": "execute_result"
    }
   ],
   "source": [
    "nba[\n",
    "    (nba.fran_id == \"Spurs\") &\n",
    "    (nba.year_id > 2010)\n",
    "].groupby([\"year_id\", \"game_result\"]).game_id.count()"
   ],
   "metadata": {
    "collapsed": false,
    "pycharm": {
     "name": "#%%\n"
    }
   }
  },
  {
   "cell_type": "code",
   "execution_count": 200,
   "outputs": [
    {
     "data": {
      "text/plain": "is_playoffs  game_result\n0            L              15\n             W              67\n1            L               5\n             W              16\nName: game_id, dtype: int64"
     },
     "execution_count": 200,
     "metadata": {},
     "output_type": "execute_result"
    }
   ],
   "source": [
    "nba[\n",
    "    (nba.year_id == 2015) &\n",
    "    (nba.fran_id == \"Warriors\")\n",
    "].groupby([\"is_playoffs\", \"game_result\"]).game_id.count()"
   ],
   "metadata": {
    "collapsed": false,
    "pycharm": {
     "name": "#%%\n"
    }
   }
  },
  {
   "cell_type": "code",
   "execution_count": 201,
   "outputs": [
    {
     "data": {
      "text/plain": "68"
     },
     "execution_count": 201,
     "metadata": {},
     "output_type": "execute_result"
    }
   ],
   "source": [
    "df = nba.copy()\n",
    "df[\"difference\"] = df.pts - df.opp_pts\n",
    "df.difference.max()"
   ],
   "metadata": {
    "collapsed": false,
    "pycharm": {
     "name": "#%%\n"
    }
   }
  },
  {
   "cell_type": "code",
   "execution_count": 202,
   "outputs": [
    {
     "name": "stdout",
     "output_type": "stream",
     "text": [
      "<class 'pandas.core.frame.DataFrame'>\n",
      "RangeIndex: 126314 entries, 0 to 126313\n",
      "Data columns (total 24 columns):\n",
      " #   Column       Non-Null Count   Dtype  \n",
      "---  ------       --------------   -----  \n",
      " 0   gameorder    126314 non-null  int64  \n",
      " 1   game_id      126314 non-null  object \n",
      " 2   lg_id        126314 non-null  object \n",
      " 3   _iscopy      126314 non-null  int64  \n",
      " 4   year_id      126314 non-null  int64  \n",
      " 5   date_game    126314 non-null  object \n",
      " 6   seasongame   126314 non-null  int64  \n",
      " 7   is_playoffs  126314 non-null  int64  \n",
      " 8   team_id      126314 non-null  object \n",
      " 9   fran_id      126314 non-null  object \n",
      " 10  pts          126314 non-null  int64  \n",
      " 11  elo_i        126314 non-null  float64\n",
      " 12  elo_n        126314 non-null  float64\n",
      " 13  win_equiv    126314 non-null  float64\n",
      " 14  opp_id       126314 non-null  object \n",
      " 15  opp_fran     126314 non-null  object \n",
      " 16  opp_pts      126314 non-null  int64  \n",
      " 17  opp_elo_i    126314 non-null  float64\n",
      " 18  opp_elo_n    126314 non-null  float64\n",
      " 19  location     126314 non-null  object \n",
      " 20  result       126314 non-null  object \n",
      " 21  forecast     126314 non-null  float64\n",
      " 22  notes        5424 non-null    object \n",
      " 23  difference   126314 non-null  int64  \n",
      "dtypes: float64(6), int64(8), object(10)\n",
      "memory usage: 23.1+ MB\n"
     ]
    }
   ],
   "source": [
    "renamed_df = df.rename(\n",
    "    columns={\"game_result\":\"result\", \"game_location\": \"location\"}\n",
    ")\n",
    "renamed_df.info()"
   ],
   "metadata": {
    "collapsed": false,
    "pycharm": {
     "name": "#%%\n"
    }
   }
  },
  {
   "cell_type": "code",
   "execution_count": 203,
   "outputs": [
    {
     "name": "stdout",
     "output_type": "stream",
     "text": [
      "<class 'pandas.core.frame.DataFrame'>\n",
      "RangeIndex: 126314 entries, 0 to 126313\n",
      "Data columns (total 20 columns):\n",
      " #   Column         Non-Null Count   Dtype  \n",
      "---  ------         --------------   -----  \n",
      " 0   gameorder      126314 non-null  int64  \n",
      " 1   game_id        126314 non-null  object \n",
      " 2   lg_id          126314 non-null  object \n",
      " 3   _iscopy        126314 non-null  int64  \n",
      " 4   year_id        126314 non-null  int64  \n",
      " 5   date_game      126314 non-null  object \n",
      " 6   seasongame     126314 non-null  int64  \n",
      " 7   is_playoffs    126314 non-null  int64  \n",
      " 8   team_id        126314 non-null  object \n",
      " 9   fran_id        126314 non-null  object \n",
      " 10  pts            126314 non-null  int64  \n",
      " 11  win_equiv      126314 non-null  float64\n",
      " 12  opp_id         126314 non-null  object \n",
      " 13  opp_fran       126314 non-null  object \n",
      " 14  opp_pts        126314 non-null  int64  \n",
      " 15  game_location  126314 non-null  object \n",
      " 16  game_result    126314 non-null  object \n",
      " 17  forecast       126314 non-null  float64\n",
      " 18  notes          5424 non-null    object \n",
      " 19  difference     126314 non-null  int64  \n",
      "dtypes: float64(2), int64(8), object(10)\n",
      "memory usage: 19.3+ MB\n"
     ]
    }
   ],
   "source": [
    "elo_columns = [col for col in df.columns if \"elo\" in col]\n",
    "df.drop(elo_columns, inplace=True, axis=1)\n",
    "df.info()"
   ],
   "metadata": {
    "collapsed": false,
    "pycharm": {
     "name": "#%%\n"
    }
   }
  },
  {
   "cell_type": "code",
   "execution_count": 204,
   "outputs": [
    {
     "data": {
      "text/plain": "71991    1993-12-23\n12759    1964-10-21\n27249    1972-12-08\n51519    1984-04-22\n96876    2004-02-17\n3857     1951-11-06\n93530    2002-12-20\n73441    1994-04-16\n89830    2001-03-30\n119516   2013-01-12\nName: date_game, dtype: datetime64[ns]"
     },
     "execution_count": 204,
     "metadata": {},
     "output_type": "execute_result"
    }
   ],
   "source": [
    "df.date_game = pd.to_datetime(df[\"date_game\"])\n",
    "df.date_game.sample(10)"
   ],
   "metadata": {
    "collapsed": false,
    "pycharm": {
     "name": "#%%\n"
    }
   }
  },
  {
   "cell_type": "code",
   "execution_count": 205,
   "outputs": [
    {
     "data": {
      "text/plain": "H    63138\nA    63138\nN       38\nName: game_location, dtype: int64"
     },
     "execution_count": 205,
     "metadata": {},
     "output_type": "execute_result"
    }
   ],
   "source": [
    "val_counts = df.game_location.value_counts()\n",
    "type(val_counts)\n",
    "val_counts"
   ],
   "metadata": {
    "collapsed": false,
    "pycharm": {
     "name": "#%%\n"
    }
   }
  },
  {
   "cell_type": "code",
   "execution_count": 206,
   "outputs": [
    {
     "name": "stdout",
     "output_type": "stream",
     "text": [
      "<class 'pandas.core.frame.DataFrame'>\n",
      "RangeIndex: 126314 entries, 0 to 126313\n",
      "Data columns (total 22 columns):\n",
      " #   Column         Non-Null Count   Dtype  \n",
      "---  ------         --------------   -----  \n",
      " 0   gameorder      126314 non-null  int64  \n",
      " 1   game_id        126314 non-null  object \n",
      " 2   lg_id          126314 non-null  object \n",
      " 3   _iscopy        126314 non-null  int64  \n",
      " 4   year_id        126314 non-null  int64  \n",
      " 5   date_game      126314 non-null  object \n",
      " 6   seasongame     126314 non-null  int64  \n",
      " 7   is_playoffs    126314 non-null  int64  \n",
      " 8   team_id        126314 non-null  object \n",
      " 9   fran_id        126314 non-null  object \n",
      " 10  pts            126314 non-null  int64  \n",
      " 11  elo_i          126314 non-null  float64\n",
      " 12  elo_n          126314 non-null  float64\n",
      " 13  win_equiv      126314 non-null  float64\n",
      " 14  opp_id         126314 non-null  object \n",
      " 15  opp_fran       126314 non-null  object \n",
      " 16  opp_pts        126314 non-null  int64  \n",
      " 17  opp_elo_i      126314 non-null  float64\n",
      " 18  opp_elo_n      126314 non-null  float64\n",
      " 19  game_location  126314 non-null  object \n",
      " 20  game_result    126314 non-null  object \n",
      " 21  forecast       126314 non-null  float64\n",
      "dtypes: float64(6), int64(7), object(9)\n",
      "memory usage: 21.2+ MB\n"
     ]
    }
   ],
   "source": [
    "data_without_missing_columns = nba.dropna(axis=1)\n",
    "data_without_missing_columns.info()"
   ],
   "metadata": {
    "collapsed": false,
    "pycharm": {
     "name": "#%%\n"
    }
   }
  },
  {
   "cell_type": "code",
   "execution_count": 207,
   "outputs": [
    {
     "data": {
      "text/plain": "count       126314\nunique         232\ntop       no notes\nfreq        120890\nName: notes, dtype: object"
     },
     "execution_count": 207,
     "metadata": {},
     "output_type": "execute_result"
    }
   ],
   "source": [
    "data_with_default_notes = nba.copy()\n",
    "data_with_default_notes[\"notes\"].fillna(\n",
    "    value=\"no notes\",\n",
    "    inplace=True\n",
    ")\n",
    "data_with_default_notes.notes.describe()\n"
   ],
   "metadata": {
    "collapsed": false,
    "pycharm": {
     "name": "#%%\n"
    }
   }
  },
  {
   "cell_type": "code",
   "execution_count": 208,
   "outputs": [
    {
     "name": "stdout",
     "output_type": "stream",
     "text": [
      "<class 'pandas.core.frame.DataFrame'>\n",
      "Int64Index: 126313 entries, 0 to 126313\n",
      "Data columns (total 20 columns):\n",
      " #   Column         Non-Null Count   Dtype         \n",
      "---  ------         --------------   -----         \n",
      " 0   gameorder      126313 non-null  int64         \n",
      " 1   game_id        126313 non-null  object        \n",
      " 2   lg_id          126313 non-null  object        \n",
      " 3   _iscopy        126313 non-null  int64         \n",
      " 4   year_id        126313 non-null  int64         \n",
      " 5   date_game      126313 non-null  datetime64[ns]\n",
      " 6   seasongame     126313 non-null  int64         \n",
      " 7   is_playoffs    126313 non-null  int64         \n",
      " 8   team_id        126313 non-null  object        \n",
      " 9   fran_id        126313 non-null  object        \n",
      " 10  pts            126313 non-null  int64         \n",
      " 11  win_equiv      126313 non-null  float64       \n",
      " 12  opp_id         126313 non-null  object        \n",
      " 13  opp_fran       126313 non-null  object        \n",
      " 14  opp_pts        126313 non-null  int64         \n",
      " 15  game_location  126313 non-null  object        \n",
      " 16  game_result    126313 non-null  object        \n",
      " 17  forecast       126313 non-null  float64       \n",
      " 18  notes          5423 non-null    object        \n",
      " 19  difference     126313 non-null  int64         \n",
      "dtypes: datetime64[ns](1), float64(2), int64(8), object(9)\n",
      "memory usage: 20.2+ MB\n",
      "<class 'pandas.core.frame.DataFrame'>\n",
      "Index: 5 entries, Amsterdam to Barcelona\n",
      "Data columns (total 2 columns):\n",
      " #   Column          Non-Null Count  Dtype\n",
      "---  ------          --------------  -----\n",
      " 0   revenue         5 non-null      int64\n",
      " 1   employee_count  4 non-null      Int64\n",
      "dtypes: Int64(1), int64(1)\n",
      "memory usage: 125.0+ bytes\n"
     ]
    }
   ],
   "source": [
    "df.drop(df.index[df.pts==0], inplace=True)\n",
    "df.info()\n",
    "\n",
    "further_city_data = pd.DataFrame(\n",
    "    {\"revenue\": [7000, 3400], \"employee_count\": [2,2]},\n",
    "    index=[\"New York\", \"Barcelona\"]\n",
    ")\n",
    "city_data.employee_count = city_data.employee_count.astype('Int64')\n",
    "\n",
    "all_city_data = pd.concat([city_data, further_city_data], sort=False)\n",
    "all_city_data.info()"
   ],
   "metadata": {
    "collapsed": false,
    "pycharm": {
     "name": "#%%\n"
    }
   }
  },
  {
   "cell_type": "code",
   "execution_count": 209,
   "outputs": [
    {
     "data": {
      "text/plain": "        revenue  employee_count  country capital\ncount      5.00            4.00        5       5\nunique      NaN             NaN        4       2\ntop         NaN             NaN  Holland   False\nfreq        NaN             NaN        2       3\nmean    5820.00            4.25      NaN     NaN\nstd     1942.16            2.87      NaN     NaN\nmin     3400.00            2.00      NaN     NaN\n25%     4200.00            2.00      NaN     NaN\n50%     6500.00            3.50      NaN     NaN\n75%     7000.00            5.75      NaN     NaN\nmax     8000.00            8.00      NaN     NaN",
      "text/html": "<div>\n<style scoped>\n    .dataframe tbody tr th:only-of-type {\n        vertical-align: middle;\n    }\n\n    .dataframe tbody tr th {\n        vertical-align: top;\n    }\n\n    .dataframe thead th {\n        text-align: right;\n    }\n</style>\n<table border=\"1\" class=\"dataframe\">\n  <thead>\n    <tr style=\"text-align: right;\">\n      <th></th>\n      <th>revenue</th>\n      <th>employee_count</th>\n      <th>country</th>\n      <th>capital</th>\n    </tr>\n  </thead>\n  <tbody>\n    <tr>\n      <th>count</th>\n      <td>5.00</td>\n      <td>4.00</td>\n      <td>5</td>\n      <td>5</td>\n    </tr>\n    <tr>\n      <th>unique</th>\n      <td>NaN</td>\n      <td>NaN</td>\n      <td>4</td>\n      <td>2</td>\n    </tr>\n    <tr>\n      <th>top</th>\n      <td>NaN</td>\n      <td>NaN</td>\n      <td>Holland</td>\n      <td>False</td>\n    </tr>\n    <tr>\n      <th>freq</th>\n      <td>NaN</td>\n      <td>NaN</td>\n      <td>2</td>\n      <td>3</td>\n    </tr>\n    <tr>\n      <th>mean</th>\n      <td>5820.00</td>\n      <td>4.25</td>\n      <td>NaN</td>\n      <td>NaN</td>\n    </tr>\n    <tr>\n      <th>std</th>\n      <td>1942.16</td>\n      <td>2.87</td>\n      <td>NaN</td>\n      <td>NaN</td>\n    </tr>\n    <tr>\n      <th>min</th>\n      <td>3400.00</td>\n      <td>2.00</td>\n      <td>NaN</td>\n      <td>NaN</td>\n    </tr>\n    <tr>\n      <th>25%</th>\n      <td>4200.00</td>\n      <td>2.00</td>\n      <td>NaN</td>\n      <td>NaN</td>\n    </tr>\n    <tr>\n      <th>50%</th>\n      <td>6500.00</td>\n      <td>3.50</td>\n      <td>NaN</td>\n      <td>NaN</td>\n    </tr>\n    <tr>\n      <th>75%</th>\n      <td>7000.00</td>\n      <td>5.75</td>\n      <td>NaN</td>\n      <td>NaN</td>\n    </tr>\n    <tr>\n      <th>max</th>\n      <td>8000.00</td>\n      <td>8.00</td>\n      <td>NaN</td>\n      <td>NaN</td>\n    </tr>\n  </tbody>\n</table>\n</div>"
     },
     "execution_count": 209,
     "metadata": {},
     "output_type": "execute_result"
    }
   ],
   "source": [
    "city_countries = pd.DataFrame({\n",
    "    \"country\": [\"Holland\", \"Japan\", \"Holland\", \"Canada\", \"Spain\"],\n",
    "    \"capital\": [True, True, False, False, False]},\n",
    "    index=[\"Amsterdam\", \"Tokyo\", \"Rotterdam\", \"Toronto\", \"Barcelona\"]\n",
    ")\n",
    "\n",
    "cities = pd.concat([all_city_data, city_countries], axis=1)\n",
    "cities.describe(include='all')"
   ],
   "metadata": {
    "collapsed": false,
    "pycharm": {
     "name": "#%%\n"
    }
   }
  },
  {
   "cell_type": "code",
   "execution_count": 210,
   "outputs": [
    {
     "data": {
      "text/plain": "           revenue  employee_count  country capital  population_millions  \\\nAmsterdam   4200.0               5  Holland    True                 17.0   \nTokyo       6500.0               8    Japan    True                127.0   \nToronto     8000.0            <NA>   Canada   False                 37.0   \nNew York    7000.0               2      NaN     NaN                  NaN   \nBarcelona   3400.0               2    Spain   False                  NaN   \nRotterdam      NaN            <NA>  Holland   False                 17.0   \n\n               continent  \nAmsterdam         Europe  \nTokyo               Asia  \nToronto    North America  \nNew York             NaN  \nBarcelona            NaN  \nRotterdam         Europe  ",
      "text/html": "<div>\n<style scoped>\n    .dataframe tbody tr th:only-of-type {\n        vertical-align: middle;\n    }\n\n    .dataframe tbody tr th {\n        vertical-align: top;\n    }\n\n    .dataframe thead th {\n        text-align: right;\n    }\n</style>\n<table border=\"1\" class=\"dataframe\">\n  <thead>\n    <tr style=\"text-align: right;\">\n      <th></th>\n      <th>revenue</th>\n      <th>employee_count</th>\n      <th>country</th>\n      <th>capital</th>\n      <th>population_millions</th>\n      <th>continent</th>\n    </tr>\n  </thead>\n  <tbody>\n    <tr>\n      <th>Amsterdam</th>\n      <td>4200.0</td>\n      <td>5</td>\n      <td>Holland</td>\n      <td>True</td>\n      <td>17.0</td>\n      <td>Europe</td>\n    </tr>\n    <tr>\n      <th>Tokyo</th>\n      <td>6500.0</td>\n      <td>8</td>\n      <td>Japan</td>\n      <td>True</td>\n      <td>127.0</td>\n      <td>Asia</td>\n    </tr>\n    <tr>\n      <th>Toronto</th>\n      <td>8000.0</td>\n      <td>&lt;NA&gt;</td>\n      <td>Canada</td>\n      <td>False</td>\n      <td>37.0</td>\n      <td>North America</td>\n    </tr>\n    <tr>\n      <th>New York</th>\n      <td>7000.0</td>\n      <td>2</td>\n      <td>NaN</td>\n      <td>NaN</td>\n      <td>NaN</td>\n      <td>NaN</td>\n    </tr>\n    <tr>\n      <th>Barcelona</th>\n      <td>3400.0</td>\n      <td>2</td>\n      <td>Spain</td>\n      <td>False</td>\n      <td>NaN</td>\n      <td>NaN</td>\n    </tr>\n    <tr>\n      <th>Rotterdam</th>\n      <td>NaN</td>\n      <td>&lt;NA&gt;</td>\n      <td>Holland</td>\n      <td>False</td>\n      <td>17.0</td>\n      <td>Europe</td>\n    </tr>\n  </tbody>\n</table>\n</div>"
     },
     "execution_count": 210,
     "metadata": {},
     "output_type": "execute_result"
    }
   ],
   "source": [
    "countries = pd.DataFrame({\n",
    "    \"population_millions\": [17, 127, 37],\n",
    "    \"continent\": [\"Europe\", \"Asia\", \"North America\"]},\n",
    "    index=[\"Holland\", \"Japan\", \"Canada\"]\n",
    ")\n",
    "pd.merge(cities, countries, left_on=\"country\", right_index=True, how=\"left\")"
   ],
   "metadata": {
    "collapsed": false,
    "pycharm": {
     "name": "#%%\n"
    }
   }
  },
  {
   "cell_type": "code",
   "execution_count": 211,
   "outputs": [
    {
     "data": {
      "text/plain": "<AxesSubplot:xlabel='year_id'>"
     },
     "execution_count": 211,
     "metadata": {},
     "output_type": "execute_result"
    },
    {
     "data": {
      "text/plain": "<Figure size 432x288 with 1 Axes>",
      "image/png": "[encoded data removed]"
     },
     "metadata": {
      "needs_background": "light"
     },
     "output_type": "display_data"
    }
   ],
   "source": [
    "%matplotlib inline\n",
    "nba[nba[\"fran_id\"] == \"Knicks\"].groupby(\"year_id\").pts.sum().plot()"
   ],
   "metadata": {
    "collapsed": false,
    "pycharm": {
     "name": "#%%\n"
    }
   }
  },
  {
   "cell_type": "code",
   "execution_count": 212,
   "outputs": [
    {
     "data": {
      "text/plain": "array(['Huskies', 'Knicks', 'Stags', ..., 'Cavaliers', 'Cavaliers',\n       'Warriors'], dtype=object)"
     },
     "execution_count": 212,
     "metadata": {},
     "output_type": "execute_result"
    },
    {
     "data": {
      "text/plain": "<Figure size 432x288 with 1 Axes>",
      "image/png": "[encoded data removed]"
     },
     "metadata": {
      "needs_background": "light"
     },
     "output_type": "display_data"
    }
   ],
   "source": [
    "nba[\"fran_id\"].value_counts().head(10).plot(kind=\"bar\")\n",
    "nba[\"fran_id\"].values"
   ],
   "metadata": {
    "collapsed": false,
    "pycharm": {
     "name": "#%%\n"
    }
   }
  },
  {
   "cell_type": "code",
   "execution_count": 243,
   "outputs": [
    {
     "data": {
      "text/plain": "<AxesSubplot:ylabel='game_result'>"
     },
     "execution_count": 243,
     "metadata": {},
     "output_type": "execute_result"
    },
    {
     "data": {
      "text/plain": "<Figure size 432x288 with 1 Axes>",
      "image/png": "[encoded data removed]"
     },
     "metadata": {},
     "output_type": "display_data"
    }
   ],
   "source": [
    "results = nba[(nba.fran_id=='Heat') & (nba.year_id==2013)].game_result\n",
    "results.value_counts().plot(kind=\"pie\")"
   ],
   "metadata": {
    "collapsed": false,
    "pycharm": {
     "name": "#%%\n"
    }
   }
  }
 ],
 "metadata": {
  "kernelspec": {
   "display_name": "Python 3",
   "language": "python",
   "name": "python3"
  },
  "language_info": {
   "codemirror_mode": {
    "name": "ipython",
    "version": 3
   },
   "file_extension": ".py",
   "mimetype": "text/x-python",
   "name": "python",
   "nbconvert_exporter": "python",
   "pygments_lexer": "ipython3",
   "version": "3.9.0"
  }
 },
 "nbformat": 4,
 "nbformat_minor": 1
}